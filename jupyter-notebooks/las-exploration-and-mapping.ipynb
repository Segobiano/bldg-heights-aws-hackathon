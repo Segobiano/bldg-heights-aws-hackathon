{
 "cells": [
  {
   "cell_type": "code",
   "execution_count": 1,
   "metadata": {},
   "outputs": [],
   "source": [
    "# Run these following 3 installs to if you don't have shapely, geopands, etc\n",
    "# !pip install laspy\n",
    "# !pip install geopandas\n",
    "# !pip install shapely"
   ]
  },
  {
   "cell_type": "code",
   "execution_count": 2,
   "metadata": {},
   "outputs": [],
   "source": [
    "import numpy as np\n",
    "from laspy.file import File\n",
    "from pandas import DataFrame\n",
    "from geopandas import GeoDataFrame\n",
    "from shapely.geometry import Point\n",
    "import requests"
   ]
  },
  {
   "cell_type": "code",
   "execution_count": 3,
   "metadata": {},
   "outputs": [],
   "source": [
    "#import some GIS visualization libraries\n",
    "# !pip install ipyleaflet\n"
   ]
  },
  {
   "cell_type": "code",
   "execution_count": 4,
   "metadata": {},
   "outputs": [],
   "source": [
    "# url = \"https://dc-lidar-2018.s3.amazonaws.com/Classified_LAS/1120.las\"\n",
    "# lidar_data = requests.get(url)\n",
    "# with open(\"./1120.las\", 'wb') as f:\n",
    "#     f.write(lidar_data.content)"
   ]
  },
  {
   "cell_type": "markdown",
   "metadata": {},
   "source": [
    "Load a set of example lidar points (grid 1120) from our repo\n",
    "The entire set of DC grids are here: \n",
    "https://dcgis.maps.arcgis.com/apps/View/index.html?appid=f0145164d65848dc978e887063a53f25"
   ]
  },
  {
   "cell_type": "code",
   "execution_count": 5,
   "metadata": {},
   "outputs": [],
   "source": [
    "inFile = File(\"./1120.las\")"
   ]
  },
  {
   "cell_type": "markdown",
   "metadata": {},
   "source": [
    "Load in as much as of inFile fields as we can.  We can decide what to do with it later. "
   ]
  },
  {
   "cell_type": "code",
   "execution_count": 10,
   "metadata": {},
   "outputs": [],
   "source": [
    "lidar_points = np.array((inFile.X,inFile.Y,inFile.Z,inFile.intensity,\n",
    "                          inFile.classification, inFile.gps_time, \n",
    "                          inFile.overlap, inFile.scan_angle, \n",
    "                          inFile.x, inFile.y, inFile.z, \n",
    "                          inFile.Synthetic, inFile.Withheld)).transpose()"
   ]
  },
  {
   "cell_type": "code",
   "execution_count": 11,
   "metadata": {},
   "outputs": [],
   "source": [
    "lidar_df=DataFrame(lidar_points, columns = [\"X\",\"Y\",\"Z\",\"intensity\",\n",
    "                                            \"classification\",\"gps_time\",\n",
    "                                            \"overlap\",\"scan_angle\", \n",
    "                                            \"x\", \"y\", \"z\",\n",
    "                                            \"Synthentic\", \"Withheld\"])"
   ]
  },
  {
   "cell_type": "markdown",
   "metadata": {},
   "source": [
    "Take a look at how many points there are present: "
   ]
  },
  {
   "cell_type": "code",
   "execution_count": 13,
   "metadata": {},
   "outputs": [
    {
     "data": {
      "text/plain": [
       "(3588649, 13)"
      ]
     },
     "execution_count": 13,
     "metadata": {},
     "output_type": "execute_result"
    }
   ],
   "source": [
    "lidar_df.shape"
   ]
  },
  {
   "cell_type": "markdown",
   "metadata": {},
   "source": [
    "## Converstion of LAS's coordinate system to Lat Long (ESPG 4326) standard coordinate system\n",
    "\n",
    "LIDAR looks to be using a coordinate system specified in its metadata file: https://dc-lidar-2015.s3.amazonaws.com/Classified_LAS/DC_Octo_Classified_LAS.xml\n",
    "Looking into the last 2 lines of the LDR Info block, we have 2 some leads: it looks like the coordinate system is some kind of NAVD88\n",
    "\n",
    "```\n",
    "<ldrinfo>\n",
    "<ldrspec>USGS v1.2 QL1</ldrspec>\n",
    "<ldrsens>Leica ALS70</ldrsens>\n",
    "<ldrmaxnr>7</ldrmaxnr>\n",
    "<ldrnps>0.26</ldrnps>\n",
    "<ldrdens>13.3</ldrdens>\n",
    "<ldradens>14</ldradens>\n",
    "<ldranps>0.25</ldranps>\n",
    "<ldrfltht>1045</ldrfltht>\n",
    "<ldrfltsp>140</ldrfltsp>\n",
    "<ldrscana>25</ldrscana>\n",
    "<ldrscanr>66.3</ldrscanr>\n",
    "<ldrpulsr>500</ldrpulsr>\n",
    "<ldrpulsd>10</ldrpulsd>\n",
    "<ldrpulsw>3</ldrpulsw>\n",
    "<ldrwavel>1064</ldrwavel>\n",
    "<ldrmpia>1</ldrmpia>\n",
    "<ldrbmdiv>0.3</ldrbmdiv>\n",
    "<ldrswatw>1650</ldrswatw>\n",
    "<ldrswato>500</ldrswato>\n",
    "<ldrcrs>NAD_1983_StatePlane_Maryland_FIPS_1900 (Meters)</ldrcrs>\n",
    "<ldrgeoid>NAVD88 - Geoid12A (Meters)</ldrgeoid>\n",
    "</ldrinfo>\n",
    "```\n",
    "\n",
    "Use the search feature of EPSG.IO coordinate conversion site and looking for NAD83, I found a coordinate system that might match the this LAS data: NAD83 EPSG 26985\n",
    "https://epsg.io/transform\n",
    "\n",
    "Let's take a look at the Lidar data first: "
   ]
  },
  {
   "cell_type": "code",
   "execution_count": 14,
   "metadata": {
    "scrolled": true
   },
   "outputs": [
    {
     "data": {
      "text/html": [
       "<div>\n",
       "<style scoped>\n",
       "    .dataframe tbody tr th:only-of-type {\n",
       "        vertical-align: middle;\n",
       "    }\n",
       "\n",
       "    .dataframe tbody tr th {\n",
       "        vertical-align: top;\n",
       "    }\n",
       "\n",
       "    .dataframe thead th {\n",
       "        text-align: right;\n",
       "    }\n",
       "</style>\n",
       "<table border=\"1\" class=\"dataframe\">\n",
       "  <thead>\n",
       "    <tr style=\"text-align: right;\">\n",
       "      <th></th>\n",
       "      <th>X</th>\n",
       "      <th>Y</th>\n",
       "      <th>Z</th>\n",
       "      <th>intensity</th>\n",
       "      <th>classification</th>\n",
       "      <th>gps_time</th>\n",
       "      <th>overlap</th>\n",
       "      <th>scan_angle</th>\n",
       "      <th>x</th>\n",
       "      <th>y</th>\n",
       "      <th>z</th>\n",
       "      <th>Synthentic</th>\n",
       "      <th>Withheld</th>\n",
       "    </tr>\n",
       "  </thead>\n",
       "  <tbody>\n",
       "    <tr>\n",
       "      <th>0</th>\n",
       "      <td>38940126.0</td>\n",
       "      <td>14019987.0</td>\n",
       "      <td>5512.0</td>\n",
       "      <td>16750.0</td>\n",
       "      <td>2.0</td>\n",
       "      <td>2.070124e+08</td>\n",
       "      <td>1.0</td>\n",
       "      <td>7.0</td>\n",
       "      <td>389401.26</td>\n",
       "      <td>140199.87</td>\n",
       "      <td>55.12</td>\n",
       "      <td>0.0</td>\n",
       "      <td>0.0</td>\n",
       "    </tr>\n",
       "    <tr>\n",
       "      <th>1</th>\n",
       "      <td>38940062.0</td>\n",
       "      <td>14019945.0</td>\n",
       "      <td>5518.0</td>\n",
       "      <td>8442.0</td>\n",
       "      <td>2.0</td>\n",
       "      <td>2.070124e+08</td>\n",
       "      <td>1.0</td>\n",
       "      <td>7.0</td>\n",
       "      <td>389400.62</td>\n",
       "      <td>140199.45</td>\n",
       "      <td>55.18</td>\n",
       "      <td>0.0</td>\n",
       "      <td>0.0</td>\n",
       "    </tr>\n",
       "    <tr>\n",
       "      <th>2</th>\n",
       "      <td>38940043.0</td>\n",
       "      <td>14019872.0</td>\n",
       "      <td>5526.0</td>\n",
       "      <td>9112.0</td>\n",
       "      <td>2.0</td>\n",
       "      <td>2.070124e+08</td>\n",
       "      <td>1.0</td>\n",
       "      <td>7.0</td>\n",
       "      <td>389400.43</td>\n",
       "      <td>140198.72</td>\n",
       "      <td>55.26</td>\n",
       "      <td>0.0</td>\n",
       "      <td>0.0</td>\n",
       "    </tr>\n",
       "    <tr>\n",
       "      <th>3</th>\n",
       "      <td>38940117.0</td>\n",
       "      <td>14019920.0</td>\n",
       "      <td>5522.0</td>\n",
       "      <td>10854.0</td>\n",
       "      <td>2.0</td>\n",
       "      <td>2.070124e+08</td>\n",
       "      <td>1.0</td>\n",
       "      <td>7.0</td>\n",
       "      <td>389401.17</td>\n",
       "      <td>140199.20</td>\n",
       "      <td>55.22</td>\n",
       "      <td>0.0</td>\n",
       "      <td>0.0</td>\n",
       "    </tr>\n",
       "    <tr>\n",
       "      <th>4</th>\n",
       "      <td>38940189.0</td>\n",
       "      <td>14019967.0</td>\n",
       "      <td>5516.0</td>\n",
       "      <td>20502.0</td>\n",
       "      <td>2.0</td>\n",
       "      <td>2.070124e+08</td>\n",
       "      <td>1.0</td>\n",
       "      <td>7.0</td>\n",
       "      <td>389401.89</td>\n",
       "      <td>140199.67</td>\n",
       "      <td>55.16</td>\n",
       "      <td>0.0</td>\n",
       "      <td>0.0</td>\n",
       "    </tr>\n",
       "  </tbody>\n",
       "</table>\n",
       "</div>"
      ],
      "text/plain": [
       "            X           Y       Z  intensity  classification      gps_time  \\\n",
       "0  38940126.0  14019987.0  5512.0    16750.0             2.0  2.070124e+08   \n",
       "1  38940062.0  14019945.0  5518.0     8442.0             2.0  2.070124e+08   \n",
       "2  38940043.0  14019872.0  5526.0     9112.0             2.0  2.070124e+08   \n",
       "3  38940117.0  14019920.0  5522.0    10854.0             2.0  2.070124e+08   \n",
       "4  38940189.0  14019967.0  5516.0    20502.0             2.0  2.070124e+08   \n",
       "\n",
       "   overlap  scan_angle          x          y      z  Synthentic  Withheld  \n",
       "0      1.0         7.0  389401.26  140199.87  55.12         0.0       0.0  \n",
       "1      1.0         7.0  389400.62  140199.45  55.18         0.0       0.0  \n",
       "2      1.0         7.0  389400.43  140198.72  55.26         0.0       0.0  \n",
       "3      1.0         7.0  389401.17  140199.20  55.22         0.0       0.0  \n",
       "4      1.0         7.0  389401.89  140199.67  55.16         0.0       0.0  "
      ]
     },
     "execution_count": 14,
     "metadata": {},
     "output_type": "execute_result"
    }
   ],
   "source": [
    "lidar_df.head()"
   ]
  },
  {
   "cell_type": "markdown",
   "metadata": {},
   "source": [
    "Conversion of LAS's coordinate to lat long should reasonably fit into the bound of DC, this will serve as a first cut confirmation of horizontal datum conversion process\n",
    "\n",
    "The LIDAR readme file: https://docs.opendata.aws/dc-lidar-2018/readme.html contains the following bounding box.  \n",
    "```\n",
    "<spdom>\n",
    "<bounding>\n",
    "<westbc>-77.122373</westbc>\n",
    "<eastbc> -76.900716</eastbc>\n",
    "<northbc>39.001746</northbc>\n",
    "<southbc>38.785481</southbc>\n",
    "</bounding>\n",
    "</spdom>\n",
    "```"
   ]
  },
  {
   "cell_type": "markdown",
   "metadata": {},
   "source": [
    "Again, using the espg.io site's tranform function, I did a quick conversion.  The result looks promising\n",
    "![title](img/espg-conversion-one-sample-point.png)"
   ]
  },
  {
   "cell_type": "code",
   "execution_count": 15,
   "metadata": {},
   "outputs": [],
   "source": [
    "num_sampled_points = 50000\n",
    "lidar_df_sampled = lidar_df.head(num_sampled_points)"
   ]
  },
  {
   "cell_type": "code",
   "execution_count": 16,
   "metadata": {},
   "outputs": [],
   "source": [
    "geometry = [Point(xyz) for xyz in zip(inFile.x,inFile.y,inFile.z)]"
   ]
  },
  {
   "cell_type": "code",
   "execution_count": 17,
   "metadata": {},
   "outputs": [],
   "source": [
    "geometry_sampled = geometry[0:num_sampled_points]"
   ]
  },
  {
   "cell_type": "code",
   "execution_count": 19,
   "metadata": {},
   "outputs": [
    {
     "name": "stderr",
     "output_type": "stream",
     "text": [
      "/home/ec2-user/anaconda3/envs/pytorch_p36/lib/python3.6/site-packages/pyproj/crs.py:77: FutureWarning: '+init=<authority>:<code>' syntax is deprecated. '<authority>:<code>' is the preferred initialization method.\n",
      "  return _prepare_from_string(\" \".join(pjargs))\n"
     ]
    }
   ],
   "source": [
    "crs = None\n",
    "lidar_geodf_sampled = GeoDataFrame(lidar_df_sampled, crs=crs, geometry=geometry_sampled)\n",
    "lidar_geodf_sampled.crs = {'init': 'epsg:26985'}\n",
    "lidar_geodf_sampled['geometry'] = lidar_geodf_sampled['geometry'].to_crs(epsg=4326)"
   ]
  },
  {
   "cell_type": "code",
   "execution_count": 22,
   "metadata": {},
   "outputs": [
    {
     "data": {
      "text/plain": [
       "0    POINT Z (-77.12223 38.92961 55.12000)\n",
       "1    POINT Z (-77.12224 38.92961 55.18000)\n",
       "2    POINT Z (-77.12224 38.92960 55.26000)\n",
       "3    POINT Z (-77.12223 38.92961 55.22000)\n",
       "4    POINT Z (-77.12223 38.92961 55.16000)\n",
       "Name: geometry, dtype: geometry"
      ]
     },
     "execution_count": 22,
     "metadata": {},
     "output_type": "execute_result"
    }
   ],
   "source": [
    "lidar_geodf_sampled['geometry'].head()"
   ]
  },
  {
   "cell_type": "code",
   "execution_count": null,
   "metadata": {},
   "outputs": [],
   "source": [
    "import geopandas as gpd\n",
    "import matplotlib.pyplot as plt"
   ]
  },
  {
   "cell_type": "code",
   "execution_count": null,
   "metadata": {},
   "outputs": [],
   "source": []
  }
 ],
 "metadata": {
  "kernelspec": {
   "display_name": "conda_pytorch_p36",
   "language": "python",
   "name": "conda_pytorch_p36"
  },
  "language_info": {
   "codemirror_mode": {
    "name": "ipython",
    "version": 3
   },
   "file_extension": ".py",
   "mimetype": "text/x-python",
   "name": "python",
   "nbconvert_exporter": "python",
   "pygments_lexer": "ipython3",
   "version": "3.6.5"
  }
 },
 "nbformat": 4,
 "nbformat_minor": 2
}
