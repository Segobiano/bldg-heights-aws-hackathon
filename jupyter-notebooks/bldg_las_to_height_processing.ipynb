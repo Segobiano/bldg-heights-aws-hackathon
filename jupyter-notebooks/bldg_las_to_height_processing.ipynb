{
 "cells": [
  {
   "cell_type": "code",
   "execution_count": 1,
   "metadata": {},
   "outputs": [],
   "source": [
    "# Run these following 3 installs to if you don't have shapely, geopands, etc\n",
    "# if you are using sagemaker, you should use the \"conda_python3\" kernel\n",
    "#!pip install laspy\n",
    "#!pip install geopandas\n",
    "#!pip install shapely"
   ]
  },
  {
   "cell_type": "code",
   "execution_count": 2,
   "metadata": {},
   "outputs": [
    {
     "name": "stdout",
     "output_type": "stream",
     "text": [
      "Collecting geoalchemy2\n",
      "  Downloading https://files.pythonhosted.org/packages/f7/b0/5730254ba89826c2835e15c7854b1e33c3bbe0433b00a1770a962cd21a7b/GeoAlchemy2-0.7.0-py2.py3-none-any.whl\n",
      "Requirement already satisfied: SQLAlchemy>=0.8 in /home/ec2-user/anaconda3/envs/python3/lib/python3.6/site-packages (from geoalchemy2) (1.2.11)\n",
      "Installing collected packages: geoalchemy2\n",
      "Successfully installed geoalchemy2-0.7.0\n",
      "\u001B[33mYou are using pip version 10.0.1, however version 20.1 is available.\n",
      "You should consider upgrading via the 'pip install --upgrade pip' command.\u001B[0m\n"
     ]
    }
   ],
   "source": [
    "# Run these following 2 installs to install/upgrade database interface modules\n",
    "#!pip install sqlalchemy psycopg2\n",
    "#!pip install psycopg2-binary\n",
    "!pip install geoalchemy2"
   ]
  },
  {
   "cell_type": "code",
   "execution_count": 3,
   "metadata": {},
   "outputs": [],
   "source": [
    "### install/upgrade folium mapping tools\n",
    "# !pip install folium"
   ]
  },
  {
   "cell_type": "code",
   "execution_count": 4,
   "metadata": {},
   "outputs": [],
   "source": [
    "import boto3\n",
    "import json"
   ]
  },
  {
   "cell_type": "code",
   "execution_count": 5,
   "metadata": {},
   "outputs": [
    {
     "name": "stderr",
     "output_type": "stream",
     "text": [
      "/home/ec2-user/anaconda3/envs/python3/lib/python3.6/site-packages/psycopg2/__init__.py:144: UserWarning: The psycopg2 wheel package will be renamed from release 2.8; in order to keep installing from binary please use \"pip install psycopg2-binary\" instead. For details see: <http://initd.org/psycopg/docs/install.html#binary-install-from-pypi>.\n",
      "  \"\"\")\n"
     ]
    }
   ],
   "source": [
    "import numpy as np\n",
    "import pandas as pd\n",
    "import psycopg2\n",
    "import sqlalchemy as db\n",
    "import matplotlib as plt\n",
    "\n",
    "%matplotlib inline"
   ]
  },
  {
   "cell_type": "code",
   "execution_count": 7,
   "metadata": {},
   "outputs": [
    {
     "name": "stdout",
     "output_type": "stream",
     "text": [
      "{\"ip\":\"34.230.156.67\"}"
     ]
    }
   ],
   "source": [
    "#Need to get this instance's public address\n",
    "!curl 'https://api.ipify.org?format=json'"
   ]
  },
  {
   "cell_type": "code",
   "execution_count": 8,
   "metadata": {},
   "outputs": [],
   "source": [
    "#Get information from Secrets Manager, especially about the database\n",
    "secretsmanager_client = boto3.client('secretsmanager')\n",
    "dbSecretValues = secretsmanager_client.get_secret_value(SecretId='UrbanInstituteDevRDSParameter')"
   ]
  },
  {
   "cell_type": "code",
   "execution_count": 9,
   "metadata": {},
   "outputs": [],
   "source": [
    "dbSecretValuesJson = json.loads(dbSecretValues['SecretString'])\n",
    "#uncomment the following line to confirm the Database access information\n",
    "#dbSecretValuesJson "
   ]
  },
  {
   "cell_type": "code",
   "execution_count": 10,
   "metadata": {},
   "outputs": [],
   "source": [
    "from sqlalchemy import create_engine\n",
    "# Postgres username, password, and database name\n",
    "POSTGRES_ADDRESS = dbSecretValuesJson['POSTGRES_ADDRESS'] ## INSERT YOUR DB ADDRESS IF IT'S NOT ON PANOPLY\n",
    "POSTGRES_PORT = int(dbSecretValuesJson['POSTGRES_PORT'])\n",
    "POSTGRES_USERNAME = dbSecretValuesJson['POSTGRES_USERNAME'] ## CHANGE THIS TO YOUR PANOPLY/POSTGRES USERNAME\n",
    "POSTGRES_PASSWORD = dbSecretValuesJson['POSTGRES_PASSWORD'] ## CHANGE THIS TO YOUR PANOPLY/POSTGRES PASSWORD POSTGRES_DBNAME = 'database' ## CHANGE THIS TO YOUR DATABASE NAME\n",
    "POSTGRES_DBNAME = dbSecretValuesJson['POSTGRES_DBNAME']\n",
    "# A long string that contains the necessary Postgres login information\n",
    "# postgres_str = ('postgresql://{username}:{password}@{ipaddress}:{port}/{dbname}'.format(\n",
    "#     username=POSTGRES_USERNAME,\n",
    "#     password=POSTGRES_PASSWORD,\n",
    "#     ipaddress=POSTGRES_ADDRESS,\n",
    "#     port=POSTGRES_PORT,\n",
    "#     dbname=POSTGRES_DBNAME))\n",
    "postgres_str = f\"postgresql://{POSTGRES_USERNAME}:{POSTGRES_PASSWORD}@{POSTGRES_ADDRESS}/{POSTGRES_DBNAME}\"\n",
    "\n",
    "engine = create_engine(postgres_str)"
   ]
  },
  {
   "cell_type": "markdown",
   "metadata": {},
   "source": [
    "In the follow code section, altitude_m is the surveyed height of building"
   ]
  },
  {
   "cell_type": "code",
   "execution_count": 11,
   "metadata": {},
   "outputs": [
    {
     "data": {
      "text/html": [
       "<div>\n",
       "<style scoped>\n",
       "    .dataframe tbody tr th:only-of-type {\n",
       "        vertical-align: middle;\n",
       "    }\n",
       "\n",
       "    .dataframe tbody tr th {\n",
       "        vertical-align: top;\n",
       "    }\n",
       "\n",
       "    .dataframe thead th {\n",
       "        text-align: right;\n",
       "    }\n",
       "</style>\n",
       "<table border=\"1\" class=\"dataframe\">\n",
       "  <thead>\n",
       "    <tr style=\"text-align: right;\">\n",
       "      <th></th>\n",
       "      <th>bldgid</th>\n",
       "      <th>egid</th>\n",
       "      <th>shape_area</th>\n",
       "      <th>altitude_m</th>\n",
       "      <th>rooftype</th>\n",
       "      <th>shape_length</th>\n",
       "      <th>border</th>\n",
       "      <th>geoid</th>\n",
       "      <th>name</th>\n",
       "      <th>namelsad</th>\n",
       "      <th>pct999</th>\n",
       "      <th>pct995</th>\n",
       "      <th>pct990</th>\n",
       "      <th>pct950</th>\n",
       "    </tr>\n",
       "  </thead>\n",
       "  <tbody>\n",
       "    <tr>\n",
       "      <th>0</th>\n",
       "      <td>59026</td>\n",
       "      <td>DC00066551</td>\n",
       "      <td>3007.748522</td>\n",
       "      <td>59.5</td>\n",
       "      <td>Shed</td>\n",
       "      <td>512.80576</td>\n",
       "      <td>01060000000200000001030000000100000006000000BE...</td>\n",
       "      <td>11001005500</td>\n",
       "      <td>55</td>\n",
       "      <td>Census Tract 55</td>\n",
       "      <td>57.56059</td>\n",
       "      <td>57.5</td>\n",
       "      <td>55.61</td>\n",
       "      <td>52.71</td>\n",
       "    </tr>\n",
       "  </tbody>\n",
       "</table>\n",
       "</div>"
      ],
      "text/plain": [
       "   bldgid        egid   shape_area  altitude_m rooftype  shape_length  \\\n",
       "0   59026  DC00066551  3007.748522        59.5     Shed     512.80576   \n",
       "\n",
       "                                              border        geoid name  \\\n",
       "0  01060000000200000001030000000100000006000000BE...  11001005500   55   \n",
       "\n",
       "          namelsad    pct999  pct995  pct990  pct950  \n",
       "0  Census Tract 55  57.56059    57.5   55.61   52.71  "
      ]
     },
     "execution_count": 11,
     "metadata": {},
     "output_type": "execute_result"
    }
   ],
   "source": [
    "sql_string = '''select * from building_detailed_info_within_ajjits_selected_tracts where bldgid = 59026'''\n",
    "pd.read_sql_query(sql_string, engine)"
   ]
  },
  {
   "cell_type": "markdown",
   "metadata": {},
   "source": [
    "From within lidarbuildingmatchtest database, las_grnd_coord, lidar_z, intensity, classification, over_lap, scan_angle, synthetic, withheld are the from the lidar data. \n",
    "\n",
    "##Explanation of columns:\n",
    "* lidar_z: lidar measure Z axis value, or height per LIDAR measurement\n",
    "* Intensity: return strength of the laster pulse https://desktop.arcgis.com/en/arcmap/10.3/manage-data/las-dataset/what-is-intensity-data-.htm\n",
    "* Classification: 0 Never classified, 1 Unassigned, 2 Ground, 3 Low Vegetation, 4 Medium Vegation 5 High Vegatation, 5 High Veg, 6 Building, 7 Low Point etc. https://desktop.arcgis.com/en/arcmap/10.3/manage-data/las-dataset/lidar-point-classification.htm#ESRI_SECTION1_570719D89812478598FB633D71EBAD06 \n",
    "* Scan angle: this is a categorical classication, with 0 being on target directly below instrument and larger number being off axis\n"
   ]
  },
  {
   "cell_type": "code",
   "execution_count": 12,
   "metadata": {},
   "outputs": [
    {
     "data": {
      "text/html": [
       "<div>\n",
       "<style scoped>\n",
       "    .dataframe tbody tr th:only-of-type {\n",
       "        vertical-align: middle;\n",
       "    }\n",
       "\n",
       "    .dataframe tbody tr th {\n",
       "        vertical-align: top;\n",
       "    }\n",
       "\n",
       "    .dataframe thead th {\n",
       "        text-align: right;\n",
       "    }\n",
       "</style>\n",
       "<table border=\"1\" class=\"dataframe\">\n",
       "  <thead>\n",
       "    <tr style=\"text-align: right;\">\n",
       "      <th></th>\n",
       "      <th>lidar_z</th>\n",
       "      <th>intensity</th>\n",
       "      <th>classification</th>\n",
       "      <th>scan_angle</th>\n",
       "      <th>synthetic</th>\n",
       "      <th>withheld</th>\n",
       "    </tr>\n",
       "  </thead>\n",
       "  <tbody>\n",
       "    <tr>\n",
       "      <th>count</th>\n",
       "      <td>9942.000000</td>\n",
       "      <td>9942.000000</td>\n",
       "      <td>9942.000000</td>\n",
       "      <td>9942.000000</td>\n",
       "      <td>9942.0</td>\n",
       "      <td>9942.0</td>\n",
       "    </tr>\n",
       "    <tr>\n",
       "      <th>mean</th>\n",
       "      <td>43.609102</td>\n",
       "      <td>22272.492255</td>\n",
       "      <td>5.834440</td>\n",
       "      <td>6.090525</td>\n",
       "      <td>0.0</td>\n",
       "      <td>0.0</td>\n",
       "    </tr>\n",
       "    <tr>\n",
       "      <th>std</th>\n",
       "      <td>5.323083</td>\n",
       "      <td>12317.469069</td>\n",
       "      <td>0.795286</td>\n",
       "      <td>2.694791</td>\n",
       "      <td>0.0</td>\n",
       "      <td>0.0</td>\n",
       "    </tr>\n",
       "    <tr>\n",
       "      <th>min</th>\n",
       "      <td>28.840000</td>\n",
       "      <td>0.000000</td>\n",
       "      <td>1.000000</td>\n",
       "      <td>3.000000</td>\n",
       "      <td>0.0</td>\n",
       "      <td>0.0</td>\n",
       "    </tr>\n",
       "    <tr>\n",
       "      <th>25%</th>\n",
       "      <td>39.580000</td>\n",
       "      <td>11122.000000</td>\n",
       "      <td>6.000000</td>\n",
       "      <td>4.000000</td>\n",
       "      <td>0.0</td>\n",
       "      <td>0.0</td>\n",
       "    </tr>\n",
       "    <tr>\n",
       "      <th>50%</th>\n",
       "      <td>44.720000</td>\n",
       "      <td>24522.000000</td>\n",
       "      <td>6.000000</td>\n",
       "      <td>6.000000</td>\n",
       "      <td>0.0</td>\n",
       "      <td>0.0</td>\n",
       "    </tr>\n",
       "    <tr>\n",
       "      <th>75%</th>\n",
       "      <td>45.840000</td>\n",
       "      <td>28810.000000</td>\n",
       "      <td>6.000000</td>\n",
       "      <td>6.000000</td>\n",
       "      <td>0.0</td>\n",
       "      <td>0.0</td>\n",
       "    </tr>\n",
       "    <tr>\n",
       "      <th>max</th>\n",
       "      <td>57.840000</td>\n",
       "      <td>65535.000000</td>\n",
       "      <td>9.000000</td>\n",
       "      <td>11.000000</td>\n",
       "      <td>0.0</td>\n",
       "      <td>0.0</td>\n",
       "    </tr>\n",
       "  </tbody>\n",
       "</table>\n",
       "</div>"
      ],
      "text/plain": [
       "           lidar_z     intensity  classification   scan_angle  synthetic  \\\n",
       "count  9942.000000   9942.000000     9942.000000  9942.000000     9942.0   \n",
       "mean     43.609102  22272.492255        5.834440     6.090525        0.0   \n",
       "std       5.323083  12317.469069        0.795286     2.694791        0.0   \n",
       "min      28.840000      0.000000        1.000000     3.000000        0.0   \n",
       "25%      39.580000  11122.000000        6.000000     4.000000        0.0   \n",
       "50%      44.720000  24522.000000        6.000000     6.000000        0.0   \n",
       "75%      45.840000  28810.000000        6.000000     6.000000        0.0   \n",
       "max      57.840000  65535.000000        9.000000    11.000000        0.0   \n",
       "\n",
       "       withheld  \n",
       "count    9942.0  \n",
       "mean        0.0  \n",
       "std         0.0  \n",
       "min         0.0  \n",
       "25%         0.0  \n",
       "50%         0.0  \n",
       "75%         0.0  \n",
       "max         0.0  "
      ]
     },
     "execution_count": 12,
     "metadata": {},
     "output_type": "execute_result"
    }
   ],
   "source": [
    "sql_string = '''select las_grnd_coord, lidar_z, intensity, classification, scan_angle, synthetic, withheld from lidarbuildingmatchtest where bldgid = 59026'''\n",
    "las_within_bldg_border_df = pd.read_sql_query(sql_string, engine)\n",
    "las_within_bldg_border_df.describe()"
   ]
  },
  {
   "cell_type": "code",
   "execution_count": 13,
   "metadata": {},
   "outputs": [
    {
     "data": {
      "text/html": [
       "<div>\n",
       "<style scoped>\n",
       "    .dataframe tbody tr th:only-of-type {\n",
       "        vertical-align: middle;\n",
       "    }\n",
       "\n",
       "    .dataframe tbody tr th {\n",
       "        vertical-align: top;\n",
       "    }\n",
       "\n",
       "    .dataframe thead th {\n",
       "        text-align: right;\n",
       "    }\n",
       "</style>\n",
       "<table border=\"1\" class=\"dataframe\">\n",
       "  <thead>\n",
       "    <tr style=\"text-align: right;\">\n",
       "      <th></th>\n",
       "      <th>lidar_z</th>\n",
       "    </tr>\n",
       "  </thead>\n",
       "  <tbody>\n",
       "    <tr>\n",
       "      <th>0.999</th>\n",
       "      <td>57.56059</td>\n",
       "    </tr>\n",
       "    <tr>\n",
       "      <th>0.995</th>\n",
       "      <td>57.50000</td>\n",
       "    </tr>\n",
       "    <tr>\n",
       "      <th>0.990</th>\n",
       "      <td>55.61000</td>\n",
       "    </tr>\n",
       "    <tr>\n",
       "      <th>0.950</th>\n",
       "      <td>52.71000</td>\n",
       "    </tr>\n",
       "    <tr>\n",
       "      <th>0.900</th>\n",
       "      <td>52.61000</td>\n",
       "    </tr>\n",
       "  </tbody>\n",
       "</table>\n",
       "</div>"
      ],
      "text/plain": [
       "        lidar_z\n",
       "0.999  57.56059\n",
       "0.995  57.50000\n",
       "0.990  55.61000\n",
       "0.950  52.71000\n",
       "0.900  52.61000"
      ]
     },
     "execution_count": 13,
     "metadata": {},
     "output_type": "execute_result"
    }
   ],
   "source": [
    "#Get the 99.5 percentile, 99 percentil, and 95 percentile of the lidar_z reading\n",
    "las_qt_results_df = las_within_bldg_border_df[['lidar_z']].quantile([.999, .995, .99, .95, .90])\n",
    "las_qt_results_df"
   ]
  },
  {
   "cell_type": "code",
   "execution_count": 14,
   "metadata": {},
   "outputs": [
    {
     "data": {
      "text/plain": [
       "0.999    57.56059\n",
       "0.995    57.50000\n",
       "0.990    55.61000\n",
       "0.950    52.71000\n",
       "0.900    52.61000\n",
       "Name: lidar_z, dtype: float64"
      ]
     },
     "execution_count": 14,
     "metadata": {},
     "output_type": "execute_result"
    }
   ],
   "source": [
    "las_qt_results_df.loc[.999:.900, 'lidar_z']"
   ]
  },
  {
   "cell_type": "code",
   "execution_count": 15,
   "metadata": {},
   "outputs": [
    {
     "data": {
      "text/plain": [
       "[57.56059000000001, 57.5, 55.61, 52.71, 52.61]"
      ]
     },
     "execution_count": 15,
     "metadata": {},
     "output_type": "execute_result"
    }
   ],
   "source": [
    "pct999 = las_qt_results_df.loc[.999, 'lidar_z']\n",
    "pct995 = las_qt_results_df.loc[.995, 'lidar_z']\n",
    "pct990 = las_qt_results_df.loc[.990, 'lidar_z']\n",
    "pct950 = las_qt_results_df.loc[.950, 'lidar_z']\n",
    "pct900 = las_qt_results_df.loc[.900, 'lidar_z']\n",
    "[pct999, pct995, pct990, pct950, pct900]"
   ]
  },
  {
   "cell_type": "code",
   "execution_count": 16,
   "metadata": {},
   "outputs": [],
   "source": [
    "from sqlalchemy import update \n",
    "from geoalchemy2 import Geometry\n",
    "from sqlalchemy.dialects import postgresql"
   ]
  },
  {
   "cell_type": "code",
   "execution_count": 17,
   "metadata": {},
   "outputs": [],
   "source": [
    "connection = engine.connect()\n",
    "metadata = db.MetaData()\n",
    "building_detailed_info_table = db.Table('building_detailed_info_within_ajjits_selected_tracts', metadata, autoload=True, autoload_with=engine)"
   ]
  },
  {
   "cell_type": "code",
   "execution_count": 18,
   "metadata": {},
   "outputs": [
    {
     "name": "stdout",
     "output_type": "stream",
     "text": [
      "UPDATE building_detailed_info_within_ajjits_selected_tracts SET pct999=%(pct999)s, pct995=%(pct995)s, pct990=%(pct990)s, pct950=%(pct950)s WHERE building_detailed_info_within_ajjits_selected_tracts.bldgid = %(bldgid_1)s\n"
     ]
    }
   ],
   "source": [
    "query = db.update(building_detailed_info_table).values({'pct999': pct999, 'pct995': pct995, 'pct990': pct990, 'pct950': pct950})\n",
    "query = query.where(building_detailed_info_table.columns.bldgid == 59026)\n",
    "print(query.compile(dialect=postgresql.dialect()))"
   ]
  },
  {
   "cell_type": "code",
   "execution_count": 19,
   "metadata": {},
   "outputs": [
    {
     "data": {
      "text/plain": [
       "<sqlalchemy.engine.result.ResultProxy at 0x7f0383eb2828>"
      ]
     },
     "execution_count": 19,
     "metadata": {},
     "output_type": "execute_result"
    }
   ],
   "source": [
    "ResultProxy = connection.execute(query)\n",
    "ResultProxy"
   ]
  },
  {
   "cell_type": "code",
   "execution_count": 20,
   "metadata": {},
   "outputs": [],
   "source": [
    "# for row in ResultProxy:\n",
    "#     print(row)"
   ]
  },
  {
   "cell_type": "code",
   "execution_count": 21,
   "metadata": {},
   "outputs": [
    {
     "data": {
      "text/html": [
       "<div>\n",
       "<style scoped>\n",
       "    .dataframe tbody tr th:only-of-type {\n",
       "        vertical-align: middle;\n",
       "    }\n",
       "\n",
       "    .dataframe tbody tr th {\n",
       "        vertical-align: top;\n",
       "    }\n",
       "\n",
       "    .dataframe thead th {\n",
       "        text-align: right;\n",
       "    }\n",
       "</style>\n",
       "<table border=\"1\" class=\"dataframe\">\n",
       "  <thead>\n",
       "    <tr style=\"text-align: right;\">\n",
       "      <th></th>\n",
       "      <th>bldgid</th>\n",
       "      <th>egid</th>\n",
       "      <th>shape_area</th>\n",
       "      <th>altitude_m</th>\n",
       "      <th>rooftype</th>\n",
       "      <th>shape_length</th>\n",
       "      <th>border</th>\n",
       "      <th>geoid</th>\n",
       "      <th>name</th>\n",
       "      <th>namelsad</th>\n",
       "      <th>pct999</th>\n",
       "      <th>pct995</th>\n",
       "      <th>pct990</th>\n",
       "      <th>pct950</th>\n",
       "    </tr>\n",
       "  </thead>\n",
       "  <tbody>\n",
       "    <tr>\n",
       "      <th>0</th>\n",
       "      <td>59026</td>\n",
       "      <td>DC00066551</td>\n",
       "      <td>3007.748522</td>\n",
       "      <td>59.5</td>\n",
       "      <td>Shed</td>\n",
       "      <td>512.80576</td>\n",
       "      <td>01060000000200000001030000000100000006000000be...</td>\n",
       "      <td>11001005500</td>\n",
       "      <td>55</td>\n",
       "      <td>Census Tract 55</td>\n",
       "      <td>57.56059</td>\n",
       "      <td>57.5</td>\n",
       "      <td>55.61</td>\n",
       "      <td>52.71</td>\n",
       "    </tr>\n",
       "  </tbody>\n",
       "</table>\n",
       "</div>"
      ],
      "text/plain": [
       "   bldgid        egid   shape_area  altitude_m rooftype  shape_length  \\\n",
       "0   59026  DC00066551  3007.748522        59.5     Shed     512.80576   \n",
       "\n",
       "                                              border        geoid name  \\\n",
       "0  01060000000200000001030000000100000006000000be...  11001005500   55   \n",
       "\n",
       "          namelsad    pct999  pct995  pct990  pct950  \n",
       "0  Census Tract 55  57.56059    57.5   55.61   52.71  "
      ]
     },
     "execution_count": 21,
     "metadata": {},
     "output_type": "execute_result"
    }
   ],
   "source": [
    "results = connection.execute(db.select([building_detailed_info_table]).where(building_detailed_info_table.columns.bldgid == 59026)).fetchall()\n",
    "df = pd.DataFrame(results)\n",
    "df.columns = results[0].keys()\n",
    "df.head(4)"
   ]
  },
  {
   "cell_type": "code",
   "execution_count": 22,
   "metadata": {},
   "outputs": [],
   "source": [
    "#terminate connections and drop the db engine\n",
    "engine.dispose()"
   ]
  },
  {
   "cell_type": "code",
   "execution_count": null,
   "metadata": {},
   "outputs": [],
   "source": []
  }
 ],
 "metadata": {
  "kernelspec": {
   "display_name": "conda_python3",
   "language": "python",
   "name": "conda_python3"
  },
  "language_info": {
   "codemirror_mode": {
    "name": "ipython",
    "version": 3
   },
   "file_extension": ".py",
   "mimetype": "text/x-python",
   "name": "python",
   "nbconvert_exporter": "python",
   "pygments_lexer": "ipython3",
   "version": "3.6.5"
  }
 },
 "nbformat": 4,
 "nbformat_minor": 4
}