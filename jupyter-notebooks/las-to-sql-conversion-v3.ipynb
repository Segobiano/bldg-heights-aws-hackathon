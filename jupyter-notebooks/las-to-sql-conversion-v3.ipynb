{
 "cells": [
  {
   "cell_type": "code",
   "execution_count": 1,
   "metadata": {},
   "outputs": [
    {
     "name": "stdout",
     "output_type": "stream",
     "text": [
      "Requirement already satisfied: laspy in /home/ec2-user/anaconda3/envs/python3/lib/python3.6/site-packages (1.6.0)\n",
      "Requirement already satisfied: numpy in /home/ec2-user/anaconda3/envs/python3/lib/python3.6/site-packages (from laspy) (1.14.3)\n",
      "\u001b[33mYou are using pip version 10.0.1, however version 19.3.1 is available.\n",
      "You should consider upgrading via the 'pip install --upgrade pip' command.\u001b[0m\n",
      "Requirement already satisfied: geopandas in /home/ec2-user/anaconda3/envs/python3/lib/python3.6/site-packages (0.6.2)\n",
      "Requirement already satisfied: shapely in /home/ec2-user/anaconda3/envs/python3/lib/python3.6/site-packages (from geopandas) (1.6.4.post2)\n",
      "Requirement already satisfied: pyproj in /home/ec2-user/anaconda3/envs/python3/lib/python3.6/site-packages (from geopandas) (2.4.2.post1)\n",
      "Requirement already satisfied: fiona in /home/ec2-user/anaconda3/envs/python3/lib/python3.6/site-packages (from geopandas) (1.8.13)\n",
      "Requirement already satisfied: pandas>=0.23.0 in /home/ec2-user/anaconda3/envs/python3/lib/python3.6/site-packages (from geopandas) (0.24.2)\n",
      "Requirement already satisfied: munch in /home/ec2-user/anaconda3/envs/python3/lib/python3.6/site-packages (from fiona->geopandas) (2.5.0)\n",
      "Requirement already satisfied: click<8,>=4.0 in /home/ec2-user/anaconda3/envs/python3/lib/python3.6/site-packages (from fiona->geopandas) (6.7)\n",
      "Requirement already satisfied: six>=1.7 in /home/ec2-user/anaconda3/envs/python3/lib/python3.6/site-packages (from fiona->geopandas) (1.11.0)\n",
      "Requirement already satisfied: attrs>=17 in /home/ec2-user/anaconda3/envs/python3/lib/python3.6/site-packages (from fiona->geopandas) (18.1.0)\n",
      "Requirement already satisfied: cligj>=0.5 in /home/ec2-user/anaconda3/envs/python3/lib/python3.6/site-packages (from fiona->geopandas) (0.5.0)\n",
      "Requirement already satisfied: click-plugins>=1.0 in /home/ec2-user/anaconda3/envs/python3/lib/python3.6/site-packages (from fiona->geopandas) (1.1.1)\n",
      "Requirement already satisfied: python-dateutil>=2.5.0 in /home/ec2-user/anaconda3/envs/python3/lib/python3.6/site-packages (from pandas>=0.23.0->geopandas) (2.7.3)\n",
      "Requirement already satisfied: numpy>=1.12.0 in /home/ec2-user/anaconda3/envs/python3/lib/python3.6/site-packages (from pandas>=0.23.0->geopandas) (1.14.3)\n",
      "Requirement already satisfied: pytz>=2011k in /home/ec2-user/anaconda3/envs/python3/lib/python3.6/site-packages (from pandas>=0.23.0->geopandas) (2018.4)\n",
      "\u001b[33mYou are using pip version 10.0.1, however version 19.3.1 is available.\n",
      "You should consider upgrading via the 'pip install --upgrade pip' command.\u001b[0m\n"
     ]
    }
   ],
   "source": [
    "# Run these following 2 installs to if you don't have shapely, geopands, etc\n",
    "# if you are using sagemaker, you should use the \"conda_python3\" kernel\n",
    "!pip install laspy\n",
    "!pip install geopandas"
   ]
  },
  {
   "cell_type": "code",
   "execution_count": 2,
   "metadata": {},
   "outputs": [
    {
     "name": "stdout",
     "output_type": "stream",
     "text": [
      "Requirement already satisfied: boto3 in /home/ec2-user/anaconda3/envs/python3/lib/python3.6/site-packages (1.10.19)\n",
      "Requirement already satisfied: botocore<1.14.0,>=1.13.19 in /home/ec2-user/anaconda3/envs/python3/lib/python3.6/site-packages (from boto3) (1.13.19)\n",
      "Requirement already satisfied: jmespath<1.0.0,>=0.7.1 in /home/ec2-user/anaconda3/envs/python3/lib/python3.6/site-packages (from boto3) (0.9.4)\n",
      "Requirement already satisfied: s3transfer<0.3.0,>=0.2.0 in /home/ec2-user/anaconda3/envs/python3/lib/python3.6/site-packages (from boto3) (0.2.1)\n",
      "Requirement already satisfied: docutils<0.16,>=0.10 in /home/ec2-user/anaconda3/envs/python3/lib/python3.6/site-packages (from botocore<1.14.0,>=1.13.19->boto3) (0.14)\n",
      "Requirement already satisfied: python-dateutil<2.8.1,>=2.1; python_version >= \"2.7\" in /home/ec2-user/anaconda3/envs/python3/lib/python3.6/site-packages (from botocore<1.14.0,>=1.13.19->boto3) (2.7.3)\n",
      "Requirement already satisfied: urllib3<1.26,>=1.20; python_version >= \"3.4\" in /home/ec2-user/anaconda3/envs/python3/lib/python3.6/site-packages (from botocore<1.14.0,>=1.13.19->boto3) (1.23)\n",
      "Requirement already satisfied: six>=1.5 in /home/ec2-user/anaconda3/envs/python3/lib/python3.6/site-packages (from python-dateutil<2.8.1,>=2.1; python_version >= \"2.7\"->botocore<1.14.0,>=1.13.19->boto3) (1.11.0)\n",
      "\u001b[33mYou are using pip version 10.0.1, however version 19.3.1 is available.\n",
      "You should consider upgrading via the 'pip install --upgrade pip' command.\u001b[0m\n"
     ]
    }
   ],
   "source": [
    "!pip install boto3"
   ]
  },
  {
   "cell_type": "code",
   "execution_count": 3,
   "metadata": {},
   "outputs": [],
   "source": [
    "import numpy as np\n",
    "from laspy.file import File\n",
    "from pandas import DataFrame\n",
    "from geopandas import GeoDataFrame\n",
    "from shapely.geometry import Point\n",
    "import requests\n",
    "import os\n",
    "import copy # not sure if this is needed"
   ]
  },
  {
   "cell_type": "code",
   "execution_count": 4,
   "metadata": {},
   "outputs": [],
   "source": [
    "import boto3 # like, are we not going to use boto3 in python on AWS?\n",
    "from botocore.exceptions import ClientError"
   ]
  },
  {
   "cell_type": "code",
   "execution_count": 5,
   "metadata": {},
   "outputs": [],
   "source": [
    "import pdb"
   ]
  },
  {
   "cell_type": "code",
   "execution_count": 6,
   "metadata": {},
   "outputs": [],
   "source": [
    "import lasutility"
   ]
  },
  {
   "cell_type": "code",
   "execution_count": 7,
   "metadata": {},
   "outputs": [],
   "source": [
    "lasKeynames = lasutility.get_las_file_names()"
   ]
  },
  {
   "cell_type": "code",
   "execution_count": 8,
   "metadata": {},
   "outputs": [],
   "source": [
    "def download_las_data(keyname):\n",
    "    url = lasutility.https_path_from_keyname(keyname)\n",
    "    lidar_data = requests.get(url)\n",
    "    lasdatafile = f\"./lasdata/{keyname}\"\n",
    "    with open(lasdatafile, \"wb+\") as f:\n",
    "        f.write(lidar_data.content)"
   ]
  },
  {
   "cell_type": "code",
   "execution_count": 9,
   "metadata": {},
   "outputs": [],
   "source": [
    "def cleanup_las_data(keyname):\n",
    "    lasdatafile = f\"./lasdata/{keyname}\"\n",
    "    os.remove(lasdatafile)"
   ]
  },
  {
   "cell_type": "code",
   "execution_count": 10,
   "metadata": {},
   "outputs": [],
   "source": [
    "def convert_las_data_to_sql_statement(keyname, max_rows_per_iteration = 100000):\n",
    "    #we need to partition the GeoDataFrame.to_crs function to 100,000 blocks, otherwise jupyter seem to have memory errors\n",
    "    #might need to come back to this and recheck\n",
    "    lasdatafile = f\"./lasdata/{keyname}\"\n",
    "    keysequencenum = keyname.split('.')[0] #get the #### of the file \"####.las\"\n",
    "    lassqlfile = f\"./lasdata/{keysequencenum}.sql\"\n",
    "    inFile = File(lasdatafile)\n",
    "    row_count = 0\n",
    "    lidar_points = np.array((inFile.X,inFile.Y,inFile.Z,inFile.intensity,\n",
    "                          inFile.classification, inFile.gps_time, \n",
    "                          inFile.overlap, inFile.scan_angle, \n",
    "                          inFile.x, inFile.y, inFile.z, \n",
    "                          inFile.Synthetic, inFile.Withheld)).transpose()\n",
    "    lidar_df=DataFrame(lidar_points, columns = [\"X\",\"Y\",\"Z\",\"intensity\",\n",
    "                                            \"classification\",\"gps_time\",\n",
    "                                            \"overlap\",\"scan_angle\", \n",
    "                                            \"x\", \"y\", \"z\",\n",
    "                                            \"synthentic\", \"withheld\"])\n",
    "    \n",
    "    lidar_df_total_length = lidar_df.shape[0]\n",
    "    sql_lines_array = []\n",
    "    sql_preamble = f\"insert into lidar_values (ground_coord, z, intensity, classification, gps_time, overlap, scan_angle, synthetic, withheld, dcoctocode) VALUES\"\n",
    "    \n",
    "    for lidar_idx_start in range(0, lidar_df_total_length, max_rows_per_iteration):\n",
    "        lidar_idx_end = lidar_idx_start + max_rows_per_iteration\n",
    "        lidar_idx_end = min(lidar_idx_end, lidar_df_total_length)\n",
    "        lidar_indices_curr_iter = np.arange(lidar_idx_start, lidar_idx_end)\n",
    "        lidar_df_sampled = lidar_df.iloc[lidar_indices_curr_iter]\n",
    "        \n",
    "        geometry_sampled = [Point(xyz) for xyz in zip(lidar_df_sampled.x,lidar_df_sampled.y,lidar_df_sampled.z)]\n",
    "        \n",
    "        crs = None\n",
    "        lidar_geodf_sampled = GeoDataFrame(lidar_df_sampled, crs=crs, geometry=geometry_sampled)\n",
    "        lidar_geodf_sampled.crs = {'init': 'epsg:26985'}\n",
    "        lidar_geodf_sampled['geometry'] = lidar_geodf_sampled['geometry'].to_crs(epsg=4326)\n",
    "        \n",
    "        for idx, frame in lidar_geodf_sampled.iterrows():\n",
    "            row_count+=1\n",
    "            X, Y, Z, intensity, classification, gps_time, overlap, scan_angle, x, y, z, synthetic, withheld, geom = frame.to_list()\n",
    "            lat, long, z = geom.x, geom.y, geom.z #  Replace the old CRS values and move this over.\n",
    "            items = [f\"'POINT({lat} {long} {z})'::geometry\", z, intensity, int(classification), gps_time, overlap, scan_angle, int(synthetic), int(withheld), int(keysequencenum)]\n",
    "            items_str = map(str, items)\n",
    "            sql_line = '(' + ', '.join(items_str) + ')'\n",
    "            sql_lines_array.append(sql_line);\n",
    "        \n",
    "    \n",
    "    sql_complete_statement = sql_preamble + \"\\n\" + (\",\\n\".join(sql_lines_array)) + ';'\n",
    "    text_file = open(lassqlfile, \"w\")\n",
    "    text_file.write(sql_complete_statement)\n",
    "    text_file.close()\n",
    "    \n",
    "    return row_count # return the number of entries created\n",
    "    "
   ]
  },
  {
   "cell_type": "code",
   "execution_count": 11,
   "metadata": {},
   "outputs": [],
   "source": [
    "def convert_las_data_to_geodataframe(keyname):\n",
    "    lasdatafile = f\"./lasdata/{keyname}\"\n",
    "    inFile = File(lasdatafile)\n",
    "    row_count = 0\n",
    "    lidar_points = np.array((inFile.X,inFile.Y,inFile.Z,inFile.intensity,\n",
    "                          inFile.classification, inFile.gps_time, \n",
    "                          inFile.overlap, inFile.scan_angle, \n",
    "                          inFile.x, inFile.y, inFile.z, \n",
    "                          inFile.Synthetic, inFile.Withheld)).transpose()\n",
    "    lidar_df=DataFrame(lidar_points, columns = [\"X\",\"Y\",\"Z\",\"intensity\",\n",
    "                                            \"classification\",\"gps_time\",\n",
    "                                            \"overlap\",\"scan_angle\", \n",
    "                                            \"x\", \"y\", \"z\",\n",
    "                                            \"synthentic\", \"withheld\"])\n",
    "    \n",
    "    geometry = [Point(xyz) for xyz in zip(lidar_df.x,lidar_df.y,lidar_df.z)]\n",
    "    \n",
    "    crs = None\n",
    "    lidar_geodf = GeoDataFrame(lidar_df, crs=crs, geometry=geometry)\n",
    "    lidar_geodf.crs = {'init': 'epsg:26985'}\n",
    "    lidar_geodf['geometry'] = lidar_geodf['geometry'].to_crs(epsg=4326)\n",
    "    \n",
    "    return lidar_geodf"
   ]
  },
  {
   "cell_type": "code",
   "execution_count": 12,
   "metadata": {},
   "outputs": [],
   "source": [
    "def upload_las_data_to_s3_bucket(keyname, s3bucket, s3prefix):\n",
    "    s3_client = boto3.client('s3')\n",
    "    local_path = f\"./lasdata/{keyname}\"\n",
    "    object_name = f\"{s3prefix}/{keyname}\"\n",
    "    try:\n",
    "        response = s3_client.upload_file(local_path, s3bucket, object_name)\n",
    "    except ClientError as e:\n",
    "        return False\n",
    "    return True"
   ]
  },
  {
   "cell_type": "code",
   "execution_count": 13,
   "metadata": {},
   "outputs": [],
   "source": [
    "def cleanup_sql_file(sqlfilename):\n",
    "    sqldatafile = f\"./lasdata/{sqlfilename}\"\n",
    "    os.remove(sqldatafile)"
   ]
  },
  {
   "cell_type": "code",
   "execution_count": null,
   "metadata": {},
   "outputs": [
    {
     "name": "stderr",
     "output_type": "stream",
     "text": [
      "/home/ec2-user/anaconda3/envs/python3/lib/python3.6/site-packages/pyproj/crs.py:77: FutureWarning: '+init=<authority>:<code>' syntax is deprecated. '<authority>:<code>' is the preferred initialization method.\n",
      "  return _prepare_from_string(\" \".join(pjargs))\n",
      "/home/ec2-user/anaconda3/envs/python3/lib/python3.6/site-packages/pyproj/crs.py:77: FutureWarning: '+init=<authority>:<code>' syntax is deprecated. '<authority>:<code>' is the preferred initialization method.\n",
      "  return _prepare_from_string(\" \".join(pjargs))\n",
      "/home/ec2-user/anaconda3/envs/python3/lib/python3.6/site-packages/pyproj/crs.py:77: FutureWarning: '+init=<authority>:<code>' syntax is deprecated. '<authority>:<code>' is the preferred initialization method.\n",
      "  return _prepare_from_string(\" \".join(pjargs))\n",
      "/home/ec2-user/anaconda3/envs/python3/lib/python3.6/site-packages/pyproj/crs.py:77: FutureWarning: '+init=<authority>:<code>' syntax is deprecated. '<authority>:<code>' is the preferred initialization method.\n",
      "  return _prepare_from_string(\" \".join(pjargs))\n",
      "/home/ec2-user/anaconda3/envs/python3/lib/python3.6/site-packages/pyproj/crs.py:77: FutureWarning: '+init=<authority>:<code>' syntax is deprecated. '<authority>:<code>' is the preferred initialization method.\n",
      "  return _prepare_from_string(\" \".join(pjargs))\n",
      "/home/ec2-user/anaconda3/envs/python3/lib/python3.6/site-packages/pyproj/crs.py:77: FutureWarning: '+init=<authority>:<code>' syntax is deprecated. '<authority>:<code>' is the preferred initialization method.\n",
      "  return _prepare_from_string(\" \".join(pjargs))\n",
      "/home/ec2-user/anaconda3/envs/python3/lib/python3.6/site-packages/pyproj/crs.py:77: FutureWarning: '+init=<authority>:<code>' syntax is deprecated. '<authority>:<code>' is the preferred initialization method.\n",
      "  return _prepare_from_string(\" \".join(pjargs))\n",
      "/home/ec2-user/anaconda3/envs/python3/lib/python3.6/site-packages/pyproj/crs.py:77: FutureWarning: '+init=<authority>:<code>' syntax is deprecated. '<authority>:<code>' is the preferred initialization method.\n",
      "  return _prepare_from_string(\" \".join(pjargs))\n",
      "/home/ec2-user/anaconda3/envs/python3/lib/python3.6/site-packages/pyproj/crs.py:77: FutureWarning: '+init=<authority>:<code>' syntax is deprecated. '<authority>:<code>' is the preferred initialization method.\n",
      "  return _prepare_from_string(\" \".join(pjargs))\n",
      "/home/ec2-user/anaconda3/envs/python3/lib/python3.6/site-packages/pyproj/crs.py:77: FutureWarning: '+init=<authority>:<code>' syntax is deprecated. '<authority>:<code>' is the preferred initialization method.\n",
      "  return _prepare_from_string(\" \".join(pjargs))\n",
      "/home/ec2-user/anaconda3/envs/python3/lib/python3.6/site-packages/pyproj/crs.py:77: FutureWarning: '+init=<authority>:<code>' syntax is deprecated. '<authority>:<code>' is the preferred initialization method.\n",
      "  return _prepare_from_string(\" \".join(pjargs))\n",
      "/home/ec2-user/anaconda3/envs/python3/lib/python3.6/site-packages/pyproj/crs.py:77: FutureWarning: '+init=<authority>:<code>' syntax is deprecated. '<authority>:<code>' is the preferred initialization method.\n",
      "  return _prepare_from_string(\" \".join(pjargs))\n",
      "/home/ec2-user/anaconda3/envs/python3/lib/python3.6/site-packages/pyproj/crs.py:77: FutureWarning: '+init=<authority>:<code>' syntax is deprecated. '<authority>:<code>' is the preferred initialization method.\n",
      "  return _prepare_from_string(\" \".join(pjargs))\n",
      "/home/ec2-user/anaconda3/envs/python3/lib/python3.6/site-packages/pyproj/crs.py:77: FutureWarning: '+init=<authority>:<code>' syntax is deprecated. '<authority>:<code>' is the preferred initialization method.\n",
      "  return _prepare_from_string(\" \".join(pjargs))\n",
      "/home/ec2-user/anaconda3/envs/python3/lib/python3.6/site-packages/pyproj/crs.py:77: FutureWarning: '+init=<authority>:<code>' syntax is deprecated. '<authority>:<code>' is the preferred initialization method.\n",
      "  return _prepare_from_string(\" \".join(pjargs))\n",
      "/home/ec2-user/anaconda3/envs/python3/lib/python3.6/site-packages/pyproj/crs.py:77: FutureWarning: '+init=<authority>:<code>' syntax is deprecated. '<authority>:<code>' is the preferred initialization method.\n",
      "  return _prepare_from_string(\" \".join(pjargs))\n",
      "/home/ec2-user/anaconda3/envs/python3/lib/python3.6/site-packages/pyproj/crs.py:77: FutureWarning: '+init=<authority>:<code>' syntax is deprecated. '<authority>:<code>' is the preferred initialization method.\n",
      "  return _prepare_from_string(\" \".join(pjargs))\n",
      "/home/ec2-user/anaconda3/envs/python3/lib/python3.6/site-packages/pyproj/crs.py:77: FutureWarning: '+init=<authority>:<code>' syntax is deprecated. '<authority>:<code>' is the preferred initialization method.\n",
      "  return _prepare_from_string(\" \".join(pjargs))\n"
     ]
    }
   ],
   "source": [
    "#process all las file into sql statements\n",
    "\n",
    "#uncomment this line to only process a single las file\n",
    "# lasKeynames = ['1121.las']\n",
    "for laskeyname in lasKeynames:\n",
    "    download_las_data(laskeyname)\n",
    "    row_count = convert_las_data_to_sql_statement(laskeyname)\n",
    "    print(row_count)\n",
    "    cleanup_las_data(laskeyname)\n",
    "    \n",
    "    keysequencenum = laskeyname.split('.')[0] #get the #### of the file \"####.las\"\n",
    "    sqlfilename = f\"{keysequencenum}.sql\"\n",
    "    upload_las_data_to_s3_bucket(sqlfilename, \"additional-test-datasets\", \"bldg-height/las-sql-statements\")\n",
    "    cleanup_sql_file(sqlfilename)\n",
    "    \n"
   ]
  },
  {
   "cell_type": "code",
   "execution_count": null,
   "metadata": {},
   "outputs": [],
   "source": []
  }
 ],
 "metadata": {
  "kernelspec": {
   "display_name": "conda_python3",
   "language": "python",
   "name": "conda_python3"
  },
  "language_info": {
   "codemirror_mode": {
    "name": "ipython",
    "version": 3
   },
   "file_extension": ".py",
   "mimetype": "text/x-python",
   "name": "python",
   "nbconvert_exporter": "python",
   "pygments_lexer": "ipython3",
   "version": "3.6.5"
  }
 },
 "nbformat": 4,
 "nbformat_minor": 2
}
