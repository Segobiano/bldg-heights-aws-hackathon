{
 "cells": [
  {
   "cell_type": "code",
   "execution_count": 1,
   "metadata": {},
   "outputs": [],
   "source": [
    "# !pip install laspy\n",
    "# !pip install geopandas"
   ]
  },
  {
   "cell_type": "code",
   "execution_count": 2,
   "metadata": {},
   "outputs": [],
   "source": [
    "# !pip install sqlalchemy psycopg2\n",
    "#!pip install psycopg2-binary"
   ]
  },
  {
   "cell_type": "code",
   "execution_count": 3,
   "metadata": {},
   "outputs": [
    {
     "name": "stdout",
     "output_type": "stream",
     "text": [
      "Requirement already satisfied: boto3 in /home/ec2-user/anaconda3/envs/python3/lib/python3.6/site-packages (1.11.5)\n",
      "Requirement already satisfied: s3transfer<0.4.0,>=0.3.0 in /home/ec2-user/anaconda3/envs/python3/lib/python3.6/site-packages (from boto3) (0.3.1)\n",
      "Requirement already satisfied: jmespath<1.0.0,>=0.7.1 in /home/ec2-user/anaconda3/envs/python3/lib/python3.6/site-packages (from boto3) (0.9.4)\n",
      "Requirement already satisfied: botocore<1.15.0,>=1.14.5 in /home/ec2-user/anaconda3/envs/python3/lib/python3.6/site-packages (from boto3) (1.14.5)\n",
      "Requirement already satisfied: urllib3<1.26,>=1.20 in /home/ec2-user/anaconda3/envs/python3/lib/python3.6/site-packages (from botocore<1.15.0,>=1.14.5->boto3) (1.23)\n",
      "Requirement already satisfied: docutils<0.16,>=0.10 in /home/ec2-user/anaconda3/envs/python3/lib/python3.6/site-packages (from botocore<1.15.0,>=1.14.5->boto3) (0.14)\n",
      "Requirement already satisfied: python-dateutil<3.0.0,>=2.1 in /home/ec2-user/anaconda3/envs/python3/lib/python3.6/site-packages (from botocore<1.15.0,>=1.14.5->boto3) (2.7.3)\n",
      "Requirement already satisfied: six>=1.5 in /home/ec2-user/anaconda3/envs/python3/lib/python3.6/site-packages (from python-dateutil<3.0.0,>=2.1->botocore<1.15.0,>=1.14.5->boto3) (1.11.0)\n",
      "\u001b[33mYou are using pip version 10.0.1, however version 19.3.1 is available.\n",
      "You should consider upgrading via the 'pip install --upgrade pip' command.\u001b[0m\n"
     ]
    }
   ],
   "source": [
    "!pip install boto3"
   ]
  },
  {
   "cell_type": "code",
   "execution_count": 4,
   "metadata": {},
   "outputs": [],
   "source": [
    "import boto3\n",
    "import json"
   ]
  },
  {
   "cell_type": "code",
   "execution_count": 5,
   "metadata": {},
   "outputs": [
    {
     "name": "stderr",
     "output_type": "stream",
     "text": [
      "/home/ec2-user/anaconda3/envs/python3/lib/python3.6/site-packages/psycopg2/__init__.py:144: UserWarning: The psycopg2 wheel package will be renamed from release 2.8; in order to keep installing from binary please use \"pip install psycopg2-binary\" instead. For details see: <http://initd.org/psycopg/docs/install.html#binary-install-from-pypi>.\n",
      "  \"\"\")\n"
     ]
    }
   ],
   "source": [
    "import numpy as np\n",
    "import pandas as pd\n",
    "import psycopg2\n",
    "import sqlalchemy\n",
    "import matplotlib as plt\n",
    "\n",
    "%matplotlib inline"
   ]
  },
  {
   "cell_type": "markdown",
   "metadata": {},
   "source": [
    "# Visualize some raw LIDAR data, and start correlating the LIDAR data to the true height of the buildings\n",
    "\n",
    "List some of the questions we need to answer\n",
    "1. What is the LIDAR-Z? Is it the z above sea level? I.e. Does the Z change with the height of the ground.\n",
    "2. What is the accuracy of LIDAR x and y reading, Can LIDAR readings nominally be within the permeter of the building be of height that is clearly not within reasonable range of a height of such building\n",
    "3. Visualize LiDAR reading of some buildings, i.e. Smithonian musuem, some houses, etc, and compare it to the actual reading and see if helps.  \n",
    " "
   ]
  },
  {
   "cell_type": "markdown",
   "metadata": {},
   "source": [
    "## Develop a routine to visualize LIDAR readings in and around a building \n",
    "\n",
    "1. Use Smithsonian National Museum of Natural History, coordinate (38.8913° N, 77.0261° W). \n",
    "2. Get the building information from the buildinginfotest table  "
   ]
  },
  {
   "cell_type": "code",
   "execution_count": 6,
   "metadata": {},
   "outputs": [
    {
     "name": "stdout",
     "output_type": "stream",
     "text": [
      "{\"ip\":\"34.236.18.197\"}"
     ]
    }
   ],
   "source": [
    "#Need to get this instance's public address\n",
    "!curl 'https://api.ipify.org?format=json'"
   ]
  },
  {
   "cell_type": "code",
   "execution_count": 7,
   "metadata": {},
   "outputs": [],
   "source": [
    "#Get information from Secrets Manager, especially about the database\n",
    "secretsmanager_client = boto3.client('secretsmanager')\n",
    "dbSecretValues = secretsmanager_client.get_secret_value(SecretId='Postgres-GISDB')"
   ]
  },
  {
   "cell_type": "code",
   "execution_count": 8,
   "metadata": {},
   "outputs": [],
   "source": [
    "dbSecretValuesJson = json.loads(dbSecretValues['SecretString'])\n",
    "#uncomment the following line to confirm the Database access information\n",
    "#dbSecretValuesJson "
   ]
  },
  {
   "cell_type": "code",
   "execution_count": 9,
   "metadata": {},
   "outputs": [],
   "source": [
    "from sqlalchemy import create_engine\n",
    "# Postgres username, password, and database name\n",
    "POSTGRES_ADDRESS = dbSecretValuesJson['POSTGRES_ADDRESS'] ## INSERT YOUR DB ADDRESS IF IT'S NOT ON PANOPLY\n",
    "POSTGRES_PORT = int(dbSecretValuesJson['POSTGRES_PORT'])\n",
    "POSTGRES_USERNAME = dbSecretValuesJson['POSTGRES_USERNAME'] ## CHANGE THIS TO YOUR PANOPLY/POSTGRES USERNAME\n",
    "POSTGRES_PASSWORD = dbSecretValuesJson['POSTGRES_PASSWORD'] ## CHANGE THIS TO YOUR PANOPLY/POSTGRES PASSWORD POSTGRES_DBNAME = 'database' ## CHANGE THIS TO YOUR DATABASE NAME\n",
    "POSTGRES_DBNAME = dbSecretValuesJson['POSTGRES_DBNAME']\n",
    "# A long string that contains the necessary Postgres login information\n",
    "# postgres_str = ('postgresql://{username}:{password}@{ipaddress}:{port}/{dbname}'.format(\n",
    "#     username=POSTGRES_USERNAME,\n",
    "#     password=POSTGRES_PASSWORD,\n",
    "#     ipaddress=POSTGRES_ADDRESS,\n",
    "#     port=POSTGRES_PORT,\n",
    "#     dbname=POSTGRES_DBNAME))\n",
    "postgres_str = f\"postgresql://{POSTGRES_USERNAME}:{POSTGRES_PASSWORD}@{POSTGRES_ADDRESS}/{POSTGRES_DBNAME}\"\n",
    "\n",
    "cnx = create_engine(postgres_str)"
   ]
  },
  {
   "cell_type": "markdown",
   "metadata": {},
   "source": [
    "### Get the building infromation associated with Smithonian National Museum of Natural History\n",
    "\n",
    "Access the GIS database to get basic information on that building\n",
    "\n",
    "Smithsonian National Museum of Natural History, coordinate (38.8913° N, 77.0261° W)\n",
    "\n",
    "The ALTITUDE_M field in original geojson file or the altitude_m field in the GIS database is the actual \"true\" height according the ground survey, we will it as the ground truth, as use LIDAR data to estimate this height \n",
    "\n",
    "Library of Congress : 38.8887° N, 77.0047 (another building candidate)"
   ]
  },
  {
   "cell_type": "code",
   "execution_count": 10,
   "metadata": {},
   "outputs": [
    {
     "data": {
      "text/html": [
       "<div>\n",
       "<style scoped>\n",
       "    .dataframe tbody tr th:only-of-type {\n",
       "        vertical-align: middle;\n",
       "    }\n",
       "\n",
       "    .dataframe tbody tr th {\n",
       "        vertical-align: top;\n",
       "    }\n",
       "\n",
       "    .dataframe thead th {\n",
       "        text-align: right;\n",
       "    }\n",
       "</style>\n",
       "<table border=\"1\" class=\"dataframe\">\n",
       "  <thead>\n",
       "    <tr style=\"text-align: right;\">\n",
       "      <th></th>\n",
       "      <th>id</th>\n",
       "      <th>egid</th>\n",
       "      <th>shape_area</th>\n",
       "      <th>altitude_m</th>\n",
       "      <th>rooftype</th>\n",
       "      <th>shape_length</th>\n",
       "      <th>border</th>\n",
       "      <th>estimated_height</th>\n",
       "    </tr>\n",
       "  </thead>\n",
       "  <tbody>\n",
       "    <tr>\n",
       "      <th>0</th>\n",
       "      <td>75888</td>\n",
       "      <td>DC00005298</td>\n",
       "      <td>21689.577757</td>\n",
       "      <td>53.61</td>\n",
       "      <td>Default</td>\n",
       "      <td>821.300506</td>\n",
       "      <td>0106000000010000000103000000030000002D0000007F...</td>\n",
       "      <td>None</td>\n",
       "    </tr>\n",
       "  </tbody>\n",
       "</table>\n",
       "</div>"
      ],
      "text/plain": [
       "      id        egid    shape_area  altitude_m rooftype  shape_length  \\\n",
       "0  75888  DC00005298  21689.577757       53.61  Default    821.300506   \n",
       "\n",
       "                                              border estimated_height  \n",
       "0  0106000000010000000103000000030000002D0000007F...             None  "
      ]
     },
     "execution_count": 10,
     "metadata": {},
     "output_type": "execute_result"
    }
   ],
   "source": [
    "pd.read_sql_query('''select * from buildinginfotest where\n",
    "ST_WITHIN ('POINT(-77.0261 38.8913 7.22)'::geometry, buildinginfotest.border)''', cnx)"
   ]
  },
  {
   "cell_type": "markdown",
   "metadata": {},
   "source": [
    "from this query result, you can see the altitude_m for the musuem is 53.61 meters\n",
    "\n",
    "Let's collect some LIDAR data both inside the building perimeter and around the building, by using the EGID code"
   ]
  },
  {
   "cell_type": "code",
   "execution_count": 11,
   "metadata": {},
   "outputs": [],
   "source": [
    "natural_hist_museum_lidar_readings = pd.read_sql_query('''select * from lidarbuildingmatchtest where\n",
    "    bldgid = 75888''', cnx)"
   ]
  },
  {
   "cell_type": "code",
   "execution_count": 12,
   "metadata": {},
   "outputs": [
    {
     "data": {
      "text/html": [
       "<div>\n",
       "<style scoped>\n",
       "    .dataframe tbody tr th:only-of-type {\n",
       "        vertical-align: middle;\n",
       "    }\n",
       "\n",
       "    .dataframe tbody tr th {\n",
       "        vertical-align: top;\n",
       "    }\n",
       "\n",
       "    .dataframe thead th {\n",
       "        text-align: right;\n",
       "    }\n",
       "</style>\n",
       "<table border=\"1\" class=\"dataframe\">\n",
       "  <thead>\n",
       "    <tr style=\"text-align: right;\">\n",
       "      <th></th>\n",
       "      <th>bldgid</th>\n",
       "      <th>egid</th>\n",
       "      <th>shape_area</th>\n",
       "      <th>altitude_m</th>\n",
       "      <th>rooftype</th>\n",
       "      <th>shape_length</th>\n",
       "      <th>lidar_z</th>\n",
       "      <th>intensity</th>\n",
       "      <th>classification</th>\n",
       "      <th>gps_time</th>\n",
       "      <th>overlap</th>\n",
       "      <th>scan_angle</th>\n",
       "      <th>synthetic</th>\n",
       "      <th>withheld</th>\n",
       "      <th>dcoctocode</th>\n",
       "      <th>border</th>\n",
       "      <th>las_grnd_coord</th>\n",
       "    </tr>\n",
       "  </thead>\n",
       "  <tbody>\n",
       "    <tr>\n",
       "      <th>0</th>\n",
       "      <td>75888</td>\n",
       "      <td>DC00005298</td>\n",
       "      <td>21689.577757</td>\n",
       "      <td>53.61</td>\n",
       "      <td>Default</td>\n",
       "      <td>821.300506</td>\n",
       "      <td>29.01</td>\n",
       "      <td>10854.0</td>\n",
       "      <td>6</td>\n",
       "      <td>2.070110e+08</td>\n",
       "      <td>0.0</td>\n",
       "      <td>-1.0</td>\n",
       "      <td>0</td>\n",
       "      <td>0</td>\n",
       "      <td>2115</td>\n",
       "      <td>0106000000010000000103000000030000002D0000007F...</td>\n",
       "      <td>01010000807173D9A0B34153C0BC7F6CE31F724340C3F5...</td>\n",
       "    </tr>\n",
       "    <tr>\n",
       "      <th>1</th>\n",
       "      <td>75888</td>\n",
       "      <td>DC00005298</td>\n",
       "      <td>21689.577757</td>\n",
       "      <td>53.61</td>\n",
       "      <td>Default</td>\n",
       "      <td>821.300506</td>\n",
       "      <td>29.16</td>\n",
       "      <td>11122.0</td>\n",
       "      <td>6</td>\n",
       "      <td>2.070110e+08</td>\n",
       "      <td>0.0</td>\n",
       "      <td>-1.0</td>\n",
       "      <td>0</td>\n",
       "      <td>0</td>\n",
       "      <td>2115</td>\n",
       "      <td>0106000000010000000103000000030000002D0000007F...</td>\n",
       "      <td>0101000080171366C3B24153C0A01E32751F724340295C...</td>\n",
       "    </tr>\n",
       "    <tr>\n",
       "      <th>2</th>\n",
       "      <td>75888</td>\n",
       "      <td>DC00005298</td>\n",
       "      <td>21689.577757</td>\n",
       "      <td>53.61</td>\n",
       "      <td>Default</td>\n",
       "      <td>821.300506</td>\n",
       "      <td>29.08</td>\n",
       "      <td>12194.0</td>\n",
       "      <td>6</td>\n",
       "      <td>2.070110e+08</td>\n",
       "      <td>0.0</td>\n",
       "      <td>-1.0</td>\n",
       "      <td>0</td>\n",
       "      <td>0</td>\n",
       "      <td>2115</td>\n",
       "      <td>0106000000010000000103000000030000002D0000007F...</td>\n",
       "      <td>0101000080F86233ACB24153C0A47D4DA31F72434015AE...</td>\n",
       "    </tr>\n",
       "    <tr>\n",
       "      <th>3</th>\n",
       "      <td>75888</td>\n",
       "      <td>DC00005298</td>\n",
       "      <td>21689.577757</td>\n",
       "      <td>53.61</td>\n",
       "      <td>Default</td>\n",
       "      <td>821.300506</td>\n",
       "      <td>28.94</td>\n",
       "      <td>11926.0</td>\n",
       "      <td>6</td>\n",
       "      <td>2.070110e+08</td>\n",
       "      <td>0.0</td>\n",
       "      <td>-1.0</td>\n",
       "      <td>0</td>\n",
       "      <td>0</td>\n",
       "      <td>2115</td>\n",
       "      <td>0106000000010000000103000000030000002D0000007F...</td>\n",
       "      <td>0101000080611886C0B24153C0D1747CFF1F724340713D...</td>\n",
       "    </tr>\n",
       "    <tr>\n",
       "      <th>4</th>\n",
       "      <td>75888</td>\n",
       "      <td>DC00005298</td>\n",
       "      <td>21689.577757</td>\n",
       "      <td>53.61</td>\n",
       "      <td>Default</td>\n",
       "      <td>821.300506</td>\n",
       "      <td>29.02</td>\n",
       "      <td>10854.0</td>\n",
       "      <td>6</td>\n",
       "      <td>2.070110e+08</td>\n",
       "      <td>0.0</td>\n",
       "      <td>-1.0</td>\n",
       "      <td>0</td>\n",
       "      <td>0</td>\n",
       "      <td>2115</td>\n",
       "      <td>0106000000010000000103000000030000002D0000007F...</td>\n",
       "      <td>01010000805ABFB8D7B24153C092A19FD01F72434085EB...</td>\n",
       "    </tr>\n",
       "  </tbody>\n",
       "</table>\n",
       "</div>"
      ],
      "text/plain": [
       "   bldgid        egid    shape_area  altitude_m rooftype  shape_length  \\\n",
       "0   75888  DC00005298  21689.577757       53.61  Default    821.300506   \n",
       "1   75888  DC00005298  21689.577757       53.61  Default    821.300506   \n",
       "2   75888  DC00005298  21689.577757       53.61  Default    821.300506   \n",
       "3   75888  DC00005298  21689.577757       53.61  Default    821.300506   \n",
       "4   75888  DC00005298  21689.577757       53.61  Default    821.300506   \n",
       "\n",
       "   lidar_z  intensity  classification      gps_time  overlap  scan_angle  \\\n",
       "0    29.01    10854.0               6  2.070110e+08      0.0        -1.0   \n",
       "1    29.16    11122.0               6  2.070110e+08      0.0        -1.0   \n",
       "2    29.08    12194.0               6  2.070110e+08      0.0        -1.0   \n",
       "3    28.94    11926.0               6  2.070110e+08      0.0        -1.0   \n",
       "4    29.02    10854.0               6  2.070110e+08      0.0        -1.0   \n",
       "\n",
       "   synthetic  withheld  dcoctocode  \\\n",
       "0          0         0        2115   \n",
       "1          0         0        2115   \n",
       "2          0         0        2115   \n",
       "3          0         0        2115   \n",
       "4          0         0        2115   \n",
       "\n",
       "                                              border  \\\n",
       "0  0106000000010000000103000000030000002D0000007F...   \n",
       "1  0106000000010000000103000000030000002D0000007F...   \n",
       "2  0106000000010000000103000000030000002D0000007F...   \n",
       "3  0106000000010000000103000000030000002D0000007F...   \n",
       "4  0106000000010000000103000000030000002D0000007F...   \n",
       "\n",
       "                                      las_grnd_coord  \n",
       "0  01010000807173D9A0B34153C0BC7F6CE31F724340C3F5...  \n",
       "1  0101000080171366C3B24153C0A01E32751F724340295C...  \n",
       "2  0101000080F86233ACB24153C0A47D4DA31F72434015AE...  \n",
       "3  0101000080611886C0B24153C0D1747CFF1F724340713D...  \n",
       "4  01010000805ABFB8D7B24153C092A19FD01F72434085EB...  "
      ]
     },
     "execution_count": 12,
     "metadata": {},
     "output_type": "execute_result"
    }
   ],
   "source": [
    "natural_hist_museum_lidar_readings.drop(columns = ['border', 'las_grnd_coord'])\n",
    "natural_hist_museum_lidar_readings.head()"
   ]
  },
  {
   "cell_type": "code",
   "execution_count": 13,
   "metadata": {},
   "outputs": [
    {
     "data": {
      "text/plain": [
       "array([[<matplotlib.axes._subplots.AxesSubplot object at 0x7f2b48d46160>]],\n",
       "      dtype=object)"
      ]
     },
     "execution_count": 13,
     "metadata": {},
     "output_type": "execute_result"
    },
    {
     "data": {
      "image/png": "[encoded data removed]",
      "text/plain": [
       "<Figure size 432x288 with 1 Axes>"
      ]
     },
     "metadata": {},
     "output_type": "display_data"
    }
   ],
   "source": [
    "natural_hist_museum_lidar_readings.hist(column='lidar_z')"
   ]
  },
  {
   "cell_type": "code",
   "execution_count": 14,
   "metadata": {},
   "outputs": [
    {
     "data": {
      "text/html": [
       "<div>\n",
       "<style scoped>\n",
       "    .dataframe tbody tr th:only-of-type {\n",
       "        vertical-align: middle;\n",
       "    }\n",
       "\n",
       "    .dataframe tbody tr th {\n",
       "        vertical-align: top;\n",
       "    }\n",
       "\n",
       "    .dataframe thead th {\n",
       "        text-align: right;\n",
       "    }\n",
       "</style>\n",
       "<table border=\"1\" class=\"dataframe\">\n",
       "  <thead>\n",
       "    <tr style=\"text-align: right;\">\n",
       "      <th></th>\n",
       "      <th>bldgid</th>\n",
       "      <th>shape_area</th>\n",
       "      <th>altitude_m</th>\n",
       "      <th>shape_length</th>\n",
       "      <th>lidar_z</th>\n",
       "      <th>intensity</th>\n",
       "      <th>classification</th>\n",
       "      <th>gps_time</th>\n",
       "      <th>overlap</th>\n",
       "      <th>scan_angle</th>\n",
       "      <th>synthetic</th>\n",
       "      <th>withheld</th>\n",
       "      <th>dcoctocode</th>\n",
       "    </tr>\n",
       "  </thead>\n",
       "  <tbody>\n",
       "    <tr>\n",
       "      <th>count</th>\n",
       "      <td>67344.0</td>\n",
       "      <td>6.734400e+04</td>\n",
       "      <td>6.734400e+04</td>\n",
       "      <td>6.734400e+04</td>\n",
       "      <td>67344.000000</td>\n",
       "      <td>67344.000000</td>\n",
       "      <td>67344.000000</td>\n",
       "      <td>6.734400e+04</td>\n",
       "      <td>67344.0</td>\n",
       "      <td>67344.000000</td>\n",
       "      <td>67344.0</td>\n",
       "      <td>67344.0</td>\n",
       "      <td>67344.0</td>\n",
       "    </tr>\n",
       "    <tr>\n",
       "      <th>mean</th>\n",
       "      <td>75888.0</td>\n",
       "      <td>2.168958e+04</td>\n",
       "      <td>5.361000e+01</td>\n",
       "      <td>8.213005e+02</td>\n",
       "      <td>30.718174</td>\n",
       "      <td>22782.422027</td>\n",
       "      <td>5.991462</td>\n",
       "      <td>2.070110e+08</td>\n",
       "      <td>0.0</td>\n",
       "      <td>0.441183</td>\n",
       "      <td>0.0</td>\n",
       "      <td>0.0</td>\n",
       "      <td>2115.0</td>\n",
       "    </tr>\n",
       "    <tr>\n",
       "      <th>std</th>\n",
       "      <td>0.0</td>\n",
       "      <td>1.796811e-08</td>\n",
       "      <td>2.842192e-11</td>\n",
       "      <td>8.584557e-10</td>\n",
       "      <td>4.342667</td>\n",
       "      <td>12849.226988</td>\n",
       "      <td>0.200829</td>\n",
       "      <td>7.572388e-01</td>\n",
       "      <td>0.0</td>\n",
       "      <td>1.547341</td>\n",
       "      <td>0.0</td>\n",
       "      <td>0.0</td>\n",
       "      <td>0.0</td>\n",
       "    </tr>\n",
       "    <tr>\n",
       "      <th>min</th>\n",
       "      <td>75888.0</td>\n",
       "      <td>2.168958e+04</td>\n",
       "      <td>5.361000e+01</td>\n",
       "      <td>8.213005e+02</td>\n",
       "      <td>3.240000</td>\n",
       "      <td>0.000000</td>\n",
       "      <td>1.000000</td>\n",
       "      <td>2.070110e+08</td>\n",
       "      <td>0.0</td>\n",
       "      <td>-3.000000</td>\n",
       "      <td>0.0</td>\n",
       "      <td>0.0</td>\n",
       "      <td>2115.0</td>\n",
       "    </tr>\n",
       "    <tr>\n",
       "      <th>25%</th>\n",
       "      <td>75888.0</td>\n",
       "      <td>2.168958e+04</td>\n",
       "      <td>5.361000e+01</td>\n",
       "      <td>8.213005e+02</td>\n",
       "      <td>28.640000</td>\n",
       "      <td>13400.000000</td>\n",
       "      <td>6.000000</td>\n",
       "      <td>2.070110e+08</td>\n",
       "      <td>0.0</td>\n",
       "      <td>-1.000000</td>\n",
       "      <td>0.0</td>\n",
       "      <td>0.0</td>\n",
       "      <td>2115.0</td>\n",
       "    </tr>\n",
       "    <tr>\n",
       "      <th>50%</th>\n",
       "      <td>75888.0</td>\n",
       "      <td>2.168958e+04</td>\n",
       "      <td>5.361000e+01</td>\n",
       "      <td>8.213005e+02</td>\n",
       "      <td>30.650000</td>\n",
       "      <td>19564.000000</td>\n",
       "      <td>6.000000</td>\n",
       "      <td>2.070110e+08</td>\n",
       "      <td>0.0</td>\n",
       "      <td>0.000000</td>\n",
       "      <td>0.0</td>\n",
       "      <td>0.0</td>\n",
       "      <td>2115.0</td>\n",
       "    </tr>\n",
       "    <tr>\n",
       "      <th>75%</th>\n",
       "      <td>75888.0</td>\n",
       "      <td>2.168958e+04</td>\n",
       "      <td>5.361000e+01</td>\n",
       "      <td>8.213005e+02</td>\n",
       "      <td>32.600000</td>\n",
       "      <td>28006.000000</td>\n",
       "      <td>6.000000</td>\n",
       "      <td>2.070110e+08</td>\n",
       "      <td>0.0</td>\n",
       "      <td>2.000000</td>\n",
       "      <td>0.0</td>\n",
       "      <td>0.0</td>\n",
       "      <td>2115.0</td>\n",
       "    </tr>\n",
       "    <tr>\n",
       "      <th>max</th>\n",
       "      <td>75888.0</td>\n",
       "      <td>2.168958e+04</td>\n",
       "      <td>5.361000e+01</td>\n",
       "      <td>8.213005e+02</td>\n",
       "      <td>54.080000</td>\n",
       "      <td>65535.000000</td>\n",
       "      <td>6.000000</td>\n",
       "      <td>2.070110e+08</td>\n",
       "      <td>0.0</td>\n",
       "      <td>4.000000</td>\n",
       "      <td>0.0</td>\n",
       "      <td>0.0</td>\n",
       "      <td>2115.0</td>\n",
       "    </tr>\n",
       "  </tbody>\n",
       "</table>\n",
       "</div>"
      ],
      "text/plain": [
       "        bldgid    shape_area    altitude_m  shape_length       lidar_z  \\\n",
       "count  67344.0  6.734400e+04  6.734400e+04  6.734400e+04  67344.000000   \n",
       "mean   75888.0  2.168958e+04  5.361000e+01  8.213005e+02     30.718174   \n",
       "std        0.0  1.796811e-08  2.842192e-11  8.584557e-10      4.342667   \n",
       "min    75888.0  2.168958e+04  5.361000e+01  8.213005e+02      3.240000   \n",
       "25%    75888.0  2.168958e+04  5.361000e+01  8.213005e+02     28.640000   \n",
       "50%    75888.0  2.168958e+04  5.361000e+01  8.213005e+02     30.650000   \n",
       "75%    75888.0  2.168958e+04  5.361000e+01  8.213005e+02     32.600000   \n",
       "max    75888.0  2.168958e+04  5.361000e+01  8.213005e+02     54.080000   \n",
       "\n",
       "          intensity  classification      gps_time  overlap    scan_angle  \\\n",
       "count  67344.000000    67344.000000  6.734400e+04  67344.0  67344.000000   \n",
       "mean   22782.422027        5.991462  2.070110e+08      0.0      0.441183   \n",
       "std    12849.226988        0.200829  7.572388e-01      0.0      1.547341   \n",
       "min        0.000000        1.000000  2.070110e+08      0.0     -3.000000   \n",
       "25%    13400.000000        6.000000  2.070110e+08      0.0     -1.000000   \n",
       "50%    19564.000000        6.000000  2.070110e+08      0.0      0.000000   \n",
       "75%    28006.000000        6.000000  2.070110e+08      0.0      2.000000   \n",
       "max    65535.000000        6.000000  2.070110e+08      0.0      4.000000   \n",
       "\n",
       "       synthetic  withheld  dcoctocode  \n",
       "count    67344.0   67344.0     67344.0  \n",
       "mean         0.0       0.0      2115.0  \n",
       "std          0.0       0.0         0.0  \n",
       "min          0.0       0.0      2115.0  \n",
       "25%          0.0       0.0      2115.0  \n",
       "50%          0.0       0.0      2115.0  \n",
       "75%          0.0       0.0      2115.0  \n",
       "max          0.0       0.0      2115.0  "
      ]
     },
     "execution_count": 14,
     "metadata": {},
     "output_type": "execute_result"
    }
   ],
   "source": [
    "natural_hist_museum_lidar_readings.describe()"
   ]
  },
  {
   "cell_type": "markdown",
   "metadata": {},
   "source": [
    "Looks like for the case of the Smithonian Natural history museum, the building height lines up very well with the max value of lidar readings\n"
   ]
  },
  {
   "cell_type": "markdown",
   "metadata": {},
   "source": [
    "Let's also visualize the LIDAR Point cloud to see if makes sense"
   ]
  },
  {
   "cell_type": "code",
   "execution_count": 15,
   "metadata": {},
   "outputs": [],
   "source": [
    "natural_hist_museum_lidar_points = pd.read_sql_query('''select ST_X(las_grnd_coord ) as las_x, ST_Y(las_grnd_coord) as las_y, lidar_z as las_z from lidarbuildingmatchtest where\n",
    "    bldgid = 75888''', cnx)"
   ]
  },
  {
   "cell_type": "code",
   "execution_count": 16,
   "metadata": {},
   "outputs": [
    {
     "data": {
      "text/plain": [
       "array([-77.02658864, -77.02653584, -77.02653031, ..., -77.0258489 ,\n",
       "       -77.02584383, -77.02585132])"
      ]
     },
     "execution_count": 16,
     "metadata": {},
     "output_type": "execute_result"
    }
   ],
   "source": [
    "natural_hist_museum_lidar_points\n",
    "natural_hist_museum_lidar_points.iloc[:, 0].values"
   ]
  },
  {
   "cell_type": "code",
   "execution_count": 17,
   "metadata": {},
   "outputs": [],
   "source": [
    "import matplotlib.pyplot as plt\n",
    "from mpl_toolkits.mplot3d import axes3d"
   ]
  },
  {
   "cell_type": "markdown",
   "metadata": {},
   "source": [
    "Performing a scatter plot of the lidar reading does make it kinda look like a 3/4 view of the museum"
   ]
  },
  {
   "cell_type": "code",
   "execution_count": 18,
   "metadata": {},
   "outputs": [
    {
     "data": {
      "image/png": "[encoded data removed]",
      "text/plain": [
       "<Figure size 432x288 with 1 Axes>"
      ]
     },
     "metadata": {},
     "output_type": "display_data"
    }
   ],
   "source": [
    "fig = plt.figure()\n",
    "ax = fig.add_subplot(111, projection='3d')\n",
    "\n",
    "ax.scatter(natural_hist_museum_lidar_points.iloc[:, 0].values, \n",
    "           natural_hist_museum_lidar_points.iloc[:, 1].values, \n",
    "           natural_hist_museum_lidar_points.iloc[:, 2].values, \n",
    "            marker = 'o'\n",
    "        )\n",
    "\n",
    "plt.show()"
   ]
  },
  {
   "cell_type": "markdown",
   "metadata": {},
   "source": [
    "It looks like just taking a maximum of lidar z reading for a building's points is sufficient to measure the height of large and unobstructed buildings, like large office buildings.  Let's take this thesis and apply it to office buildings in DC \n",
    "\n",
    "## Correlate True Building Height and LIDAR Readings for Large Buildings\n",
    "\n",
    "Assuming that large buildings have a minimum ground area of 1000 sqr meters or 10763. sqr feet.  We will apply the techniques learnt with Smithonian to these buildings"
   ]
  },
  {
   "cell_type": "code",
   "execution_count": 19,
   "metadata": {},
   "outputs": [
    {
     "data": {
      "text/html": [
       "<div>\n",
       "<style scoped>\n",
       "    .dataframe tbody tr th:only-of-type {\n",
       "        vertical-align: middle;\n",
       "    }\n",
       "\n",
       "    .dataframe tbody tr th {\n",
       "        vertical-align: top;\n",
       "    }\n",
       "\n",
       "    .dataframe thead th {\n",
       "        text-align: right;\n",
       "    }\n",
       "</style>\n",
       "<table border=\"1\" class=\"dataframe\">\n",
       "  <thead>\n",
       "    <tr style=\"text-align: right;\">\n",
       "      <th></th>\n",
       "      <th>count_of_large_buildings</th>\n",
       "    </tr>\n",
       "  </thead>\n",
       "  <tbody>\n",
       "    <tr>\n",
       "      <th>0</th>\n",
       "      <td>4813</td>\n",
       "    </tr>\n",
       "  </tbody>\n",
       "</table>\n",
       "</div>"
      ],
      "text/plain": [
       "   count_of_large_buildings\n",
       "0                      4813"
      ]
     },
     "execution_count": 19,
     "metadata": {},
     "output_type": "execute_result"
    }
   ],
   "source": [
    "pd.read_sql_query('''select count(*) as count_of_large_buildings from buildinginfotest where\n",
    "    shape_area >= 1000''', cnx)"
   ]
  },
  {
   "cell_type": "code",
   "execution_count": 20,
   "metadata": {},
   "outputs": [
    {
     "data": {
      "text/html": [
       "<div>\n",
       "<style scoped>\n",
       "    .dataframe tbody tr th:only-of-type {\n",
       "        vertical-align: middle;\n",
       "    }\n",
       "\n",
       "    .dataframe tbody tr th {\n",
       "        vertical-align: top;\n",
       "    }\n",
       "\n",
       "    .dataframe thead th {\n",
       "        text-align: right;\n",
       "    }\n",
       "</style>\n",
       "<table border=\"1\" class=\"dataframe\">\n",
       "  <thead>\n",
       "    <tr style=\"text-align: right;\">\n",
       "      <th></th>\n",
       "      <th>id</th>\n",
       "      <th>altitude_m</th>\n",
       "    </tr>\n",
       "  </thead>\n",
       "  <tbody>\n",
       "    <tr>\n",
       "      <th>count</th>\n",
       "      <td>481.000000</td>\n",
       "      <td>481.000000</td>\n",
       "    </tr>\n",
       "    <tr>\n",
       "      <th>mean</th>\n",
       "      <td>64737.540541</td>\n",
       "      <td>59.595426</td>\n",
       "    </tr>\n",
       "    <tr>\n",
       "      <th>std</th>\n",
       "      <td>22064.838177</td>\n",
       "      <td>30.130003</td>\n",
       "    </tr>\n",
       "    <tr>\n",
       "      <th>min</th>\n",
       "      <td>1095.000000</td>\n",
       "      <td>7.490000</td>\n",
       "    </tr>\n",
       "    <tr>\n",
       "      <th>25%</th>\n",
       "      <td>56132.000000</td>\n",
       "      <td>39.150000</td>\n",
       "    </tr>\n",
       "    <tr>\n",
       "      <th>50%</th>\n",
       "      <td>68897.000000</td>\n",
       "      <td>53.780000</td>\n",
       "    </tr>\n",
       "    <tr>\n",
       "      <th>75%</th>\n",
       "      <td>77855.000000</td>\n",
       "      <td>70.450000</td>\n",
       "    </tr>\n",
       "    <tr>\n",
       "      <th>max</th>\n",
       "      <td>100955.000000</td>\n",
       "      <td>193.350000</td>\n",
       "    </tr>\n",
       "  </tbody>\n",
       "</table>\n",
       "</div>"
      ],
      "text/plain": [
       "                  id  altitude_m\n",
       "count     481.000000  481.000000\n",
       "mean    64737.540541   59.595426\n",
       "std     22064.838177   30.130003\n",
       "min      1095.000000    7.490000\n",
       "25%     56132.000000   39.150000\n",
       "50%     68897.000000   53.780000\n",
       "75%     77855.000000   70.450000\n",
       "max    100955.000000  193.350000"
      ]
     },
     "execution_count": 20,
     "metadata": {},
     "output_type": "execute_result"
    }
   ],
   "source": [
    "large_buildings_df = pd.read_sql_query('''select id, egid, altitude_m from buildinginfotest where\n",
    "    shape_area >= 5000''', cnx)\n",
    "large_buildings_df.describe()"
   ]
  },
  {
   "cell_type": "code",
   "execution_count": 29,
   "metadata": {},
   "outputs": [
    {
     "data": {
      "text/plain": [
       "481"
      ]
     },
     "execution_count": 29,
     "metadata": {},
     "output_type": "execute_result"
    }
   ],
   "source": [
    "large_buildings_df.shape[0]"
   ]
  },
  {
   "cell_type": "code",
   "execution_count": 35,
   "metadata": {},
   "outputs": [
    {
     "data": {
      "text/plain": [
       "[263, 313, 177, 75, 70, 154, 36, 194, 310, 108]"
      ]
     },
     "execution_count": 35,
     "metadata": {},
     "output_type": "execute_result"
    }
   ],
   "source": [
    "#set a fixed random seed that I can change later\n",
    "import random\n",
    "np.random.seed(51)\n",
    "\n",
    "#get a random building index from the large_buildings_df \n",
    "random_idx = random.sample(range(0, large_buildings_df.shape[0]), 10)\n",
    "random_idx\n"
   ]
  },
  {
   "cell_type": "code",
   "execution_count": 38,
   "metadata": {},
   "outputs": [
    {
     "data": {
      "text/html": [
       "<div>\n",
       "<style scoped>\n",
       "    .dataframe tbody tr th:only-of-type {\n",
       "        vertical-align: middle;\n",
       "    }\n",
       "\n",
       "    .dataframe tbody tr th {\n",
       "        vertical-align: top;\n",
       "    }\n",
       "\n",
       "    .dataframe thead th {\n",
       "        text-align: right;\n",
       "    }\n",
       "</style>\n",
       "<table border=\"1\" class=\"dataframe\">\n",
       "  <thead>\n",
       "    <tr style=\"text-align: right;\">\n",
       "      <th></th>\n",
       "      <th>id</th>\n",
       "      <th>egid</th>\n",
       "      <th>altitude_m</th>\n",
       "    </tr>\n",
       "  </thead>\n",
       "  <tbody>\n",
       "    <tr>\n",
       "      <th>263</th>\n",
       "      <td>69650</td>\n",
       "      <td>DC00006528</td>\n",
       "      <td>57.41</td>\n",
       "    </tr>\n",
       "    <tr>\n",
       "      <th>313</th>\n",
       "      <td>72257</td>\n",
       "      <td>DC00006035</td>\n",
       "      <td>54.00</td>\n",
       "    </tr>\n",
       "    <tr>\n",
       "      <th>177</th>\n",
       "      <td>65554</td>\n",
       "      <td>DC00044221</td>\n",
       "      <td>38.55</td>\n",
       "    </tr>\n",
       "    <tr>\n",
       "      <th>75</th>\n",
       "      <td>42045</td>\n",
       "      <td>DC00016244</td>\n",
       "      <td>156.46</td>\n",
       "    </tr>\n",
       "    <tr>\n",
       "      <th>70</th>\n",
       "      <td>39543</td>\n",
       "      <td>DC00015998</td>\n",
       "      <td>73.74</td>\n",
       "    </tr>\n",
       "    <tr>\n",
       "      <th>154</th>\n",
       "      <td>62540</td>\n",
       "      <td>DC00063776</td>\n",
       "      <td>58.14</td>\n",
       "    </tr>\n",
       "    <tr>\n",
       "      <th>36</th>\n",
       "      <td>27992</td>\n",
       "      <td>DC00027137</td>\n",
       "      <td>105.56</td>\n",
       "    </tr>\n",
       "    <tr>\n",
       "      <th>194</th>\n",
       "      <td>66377</td>\n",
       "      <td>DC00000306</td>\n",
       "      <td>62.54</td>\n",
       "    </tr>\n",
       "    <tr>\n",
       "      <th>310</th>\n",
       "      <td>72241</td>\n",
       "      <td>DC00005939</td>\n",
       "      <td>53.46</td>\n",
       "    </tr>\n",
       "    <tr>\n",
       "      <th>108</th>\n",
       "      <td>54567</td>\n",
       "      <td>DC00026545</td>\n",
       "      <td>51.67</td>\n",
       "    </tr>\n",
       "  </tbody>\n",
       "</table>\n",
       "</div>"
      ],
      "text/plain": [
       "        id        egid  altitude_m\n",
       "263  69650  DC00006528       57.41\n",
       "313  72257  DC00006035       54.00\n",
       "177  65554  DC00044221       38.55\n",
       "75   42045  DC00016244      156.46\n",
       "70   39543  DC00015998       73.74\n",
       "154  62540  DC00063776       58.14\n",
       "36   27992  DC00027137      105.56\n",
       "194  66377  DC00000306       62.54\n",
       "310  72241  DC00005939       53.46\n",
       "108  54567  DC00026545       51.67"
      ]
     },
     "execution_count": 38,
     "metadata": {},
     "output_type": "execute_result"
    }
   ],
   "source": [
    "large_buildings_random_df = large_buildings_df.iloc[random_idx, :]\n",
    "large_buildings_random_df"
   ]
  },
  {
   "cell_type": "code",
   "execution_count": 45,
   "metadata": {},
   "outputs": [
    {
     "data": {
      "text/plain": [
       "[69650, 72257, 65554, 42045, 39543, 62540, 27992, 66377, 72241, 54567]"
      ]
     },
     "execution_count": 45,
     "metadata": {},
     "output_type": "execute_result"
    }
   ],
   "source": [
    "large_buildings_random_blgids = list(large_buildings_random_df[\"id\"].values)\n",
    "large_buildings_random_blgids"
   ]
  },
  {
   "cell_type": "code",
   "execution_count": 55,
   "metadata": {},
   "outputs": [
    {
     "data": {
      "text/plain": [
       "'select bldgid, egid, ST_X(las_grnd_coord) as las_x, ST_Y(las_grnd_coord), lidar_z as las_z, intensity, classification, gps_time, overlap, scan_angle, synthetic, withheld, dcoctocode\\nfrom lidarbuildingmatchtest lidarblg where\\nlidarblg.bldgid in (69650,72257,65554,42045,39543,62540,27992,66377,72241,54567)'"
      ]
     },
     "execution_count": 55,
     "metadata": {},
     "output_type": "execute_result"
    }
   ],
   "source": [
    "sql_string = '''\\\n",
    "select bldgid, egid, ST_X(las_grnd_coord) as las_x, ST_Y(las_grnd_coord), lidar_z as las_z, intensity, classification, gps_time, overlap, scan_angle, synthetic, withheld, dcoctocode\n",
    "from lidarbuildingmatchtest lidarblg where\n",
    "lidarblg.bldgid in ({})\\\n",
    "'''.format( ','.join(str(v) for v in large_buildings_random_blgids) )\n",
    "sql_string\n",
    "#large_buildings_lidar_readings_df = pd.read_sql_query('''\n",
    "#select bldgid, egid, ST_X(las_grnd_coord) as las_x, ST_Y(las_grnd_coord), lidar_z as las_z, intensity, classification, gps_time, overlap, scan_angle, synthetic, withheld, dcoctocode\n",
    "#from lidarbuildingmatchtest lidarblg where\n",
    "#lidarblg.bldgid in ( 69650, 72257, 65554);\n",
    "#''', cnx)"
   ]
  },
  {
   "cell_type": "code",
   "execution_count": 56,
   "metadata": {},
   "outputs": [],
   "source": [
    "large_buildings_lidar_readings_df = pd.read_sql_query(sql_string, cnx)"
   ]
  },
  {
   "cell_type": "code",
   "execution_count": 57,
   "metadata": {},
   "outputs": [
    {
     "data": {
      "text/html": [
       "<div>\n",
       "<style scoped>\n",
       "    .dataframe tbody tr th:only-of-type {\n",
       "        vertical-align: middle;\n",
       "    }\n",
       "\n",
       "    .dataframe tbody tr th {\n",
       "        vertical-align: top;\n",
       "    }\n",
       "\n",
       "    .dataframe thead th {\n",
       "        text-align: right;\n",
       "    }\n",
       "</style>\n",
       "<table border=\"1\" class=\"dataframe\">\n",
       "  <thead>\n",
       "    <tr style=\"text-align: right;\">\n",
       "      <th></th>\n",
       "      <th>bldgid</th>\n",
       "      <th>egid</th>\n",
       "      <th>las_x</th>\n",
       "      <th>st_y</th>\n",
       "      <th>las_z</th>\n",
       "      <th>intensity</th>\n",
       "      <th>classification</th>\n",
       "      <th>gps_time</th>\n",
       "      <th>overlap</th>\n",
       "      <th>scan_angle</th>\n",
       "      <th>synthetic</th>\n",
       "      <th>withheld</th>\n",
       "      <th>dcoctocode</th>\n",
       "    </tr>\n",
       "  </thead>\n",
       "  <tbody>\n",
       "    <tr>\n",
       "      <th>0</th>\n",
       "      <td>27992</td>\n",
       "      <td>DC00027137</td>\n",
       "      <td>-77.067269</td>\n",
       "      <td>38.946007</td>\n",
       "      <td>95.72</td>\n",
       "      <td>65535.0</td>\n",
       "      <td>6</td>\n",
       "      <td>2.070101e+08</td>\n",
       "      <td>0.0</td>\n",
       "      <td>3.0</td>\n",
       "      <td>0</td>\n",
       "      <td>0</td>\n",
       "      <td>1623</td>\n",
       "    </tr>\n",
       "    <tr>\n",
       "      <th>1</th>\n",
       "      <td>27992</td>\n",
       "      <td>DC00027137</td>\n",
       "      <td>-77.067318</td>\n",
       "      <td>38.946012</td>\n",
       "      <td>95.81</td>\n",
       "      <td>9112.0</td>\n",
       "      <td>6</td>\n",
       "      <td>2.070101e+08</td>\n",
       "      <td>0.0</td>\n",
       "      <td>3.0</td>\n",
       "      <td>0</td>\n",
       "      <td>0</td>\n",
       "      <td>1623</td>\n",
       "    </tr>\n",
       "    <tr>\n",
       "      <th>2</th>\n",
       "      <td>27992</td>\n",
       "      <td>DC00027137</td>\n",
       "      <td>-77.067279</td>\n",
       "      <td>38.946005</td>\n",
       "      <td>95.59</td>\n",
       "      <td>30035.0</td>\n",
       "      <td>6</td>\n",
       "      <td>2.070101e+08</td>\n",
       "      <td>0.0</td>\n",
       "      <td>5.0</td>\n",
       "      <td>0</td>\n",
       "      <td>0</td>\n",
       "      <td>1623</td>\n",
       "    </tr>\n",
       "    <tr>\n",
       "      <th>3</th>\n",
       "      <td>27992</td>\n",
       "      <td>DC00027137</td>\n",
       "      <td>-77.067273</td>\n",
       "      <td>38.946010</td>\n",
       "      <td>95.80</td>\n",
       "      <td>33842.0</td>\n",
       "      <td>6</td>\n",
       "      <td>2.070101e+08</td>\n",
       "      <td>0.0</td>\n",
       "      <td>5.0</td>\n",
       "      <td>0</td>\n",
       "      <td>0</td>\n",
       "      <td>1623</td>\n",
       "    </tr>\n",
       "    <tr>\n",
       "      <th>4</th>\n",
       "      <td>27992</td>\n",
       "      <td>DC00027137</td>\n",
       "      <td>-77.067277</td>\n",
       "      <td>38.946012</td>\n",
       "      <td>95.85</td>\n",
       "      <td>6030.0</td>\n",
       "      <td>6</td>\n",
       "      <td>2.070101e+08</td>\n",
       "      <td>0.0</td>\n",
       "      <td>5.0</td>\n",
       "      <td>0</td>\n",
       "      <td>0</td>\n",
       "      <td>1623</td>\n",
       "    </tr>\n",
       "  </tbody>\n",
       "</table>\n",
       "</div>"
      ],
      "text/plain": [
       "   bldgid        egid      las_x       st_y  las_z  intensity  classification  \\\n",
       "0   27992  DC00027137 -77.067269  38.946007  95.72    65535.0               6   \n",
       "1   27992  DC00027137 -77.067318  38.946012  95.81     9112.0               6   \n",
       "2   27992  DC00027137 -77.067279  38.946005  95.59    30035.0               6   \n",
       "3   27992  DC00027137 -77.067273  38.946010  95.80    33842.0               6   \n",
       "4   27992  DC00027137 -77.067277  38.946012  95.85     6030.0               6   \n",
       "\n",
       "       gps_time  overlap  scan_angle  synthetic  withheld  dcoctocode  \n",
       "0  2.070101e+08      0.0         3.0          0         0        1623  \n",
       "1  2.070101e+08      0.0         3.0          0         0        1623  \n",
       "2  2.070101e+08      0.0         5.0          0         0        1623  \n",
       "3  2.070101e+08      0.0         5.0          0         0        1623  \n",
       "4  2.070101e+08      0.0         5.0          0         0        1623  "
      ]
     },
     "execution_count": 57,
     "metadata": {},
     "output_type": "execute_result"
    }
   ],
   "source": [
    "#peak at this data\n",
    "large_buildings_lidar_readings_df.head()"
   ]
  },
  {
   "cell_type": "markdown",
   "metadata": {},
   "source": [
    "Some additional information on LAS classification code:\n",
    "0: Created, never classified\n",
    "1: Unclassified\n",
    "2: Ground\n",
    "3: Low vegetation\n",
    "4: Medium vegetation\n",
    "5: High vegetation\n",
    "6: Building\n",
    "7: Low point (noise)\n",
    "8: Model key-point (mass point0\n",
    "9: Water\n",
    "10: Reserved\n",
    "11: Reserved\n",
    "12: Overlap points\n",
    "13+: Reserved"
   ]
  },
  {
   "cell_type": "markdown",
   "metadata": {},
   "source": [
    "### Treating (Filtering) the LIDAR points values\n",
    "Steps: \n",
    "1. Filter out all LIDAR points whose classification is not 0, 1, and 6\n",
    "2. Get the max of the height of LIDAR y reading and compare it against the surveyed height of buildings\n",
    "3. Compare results"
   ]
  },
  {
   "cell_type": "code",
   "execution_count": 42,
   "metadata": {},
   "outputs": [
    {
     "data": {
      "text/html": [
       "<div>\n",
       "<style scoped>\n",
       "    .dataframe tbody tr th:only-of-type {\n",
       "        vertical-align: middle;\n",
       "    }\n",
       "\n",
       "    .dataframe tbody tr th {\n",
       "        vertical-align: top;\n",
       "    }\n",
       "\n",
       "    .dataframe thead th {\n",
       "        text-align: right;\n",
       "    }\n",
       "</style>\n",
       "<table border=\"1\" class=\"dataframe\">\n",
       "  <thead>\n",
       "    <tr style=\"text-align: right;\">\n",
       "      <th></th>\n",
       "      <th>egid</th>\n",
       "      <th>las_x</th>\n",
       "      <th>st_y</th>\n",
       "      <th>las_z</th>\n",
       "      <th>intensity</th>\n",
       "      <th>classification</th>\n",
       "      <th>gps_time</th>\n",
       "      <th>overlap</th>\n",
       "      <th>scan_angle</th>\n",
       "      <th>synthetic</th>\n",
       "      <th>withheld</th>\n",
       "      <th>dcoctocode</th>\n",
       "    </tr>\n",
       "    <tr>\n",
       "      <th>bldgid</th>\n",
       "      <th></th>\n",
       "      <th></th>\n",
       "      <th></th>\n",
       "      <th></th>\n",
       "      <th></th>\n",
       "      <th></th>\n",
       "      <th></th>\n",
       "      <th></th>\n",
       "      <th></th>\n",
       "      <th></th>\n",
       "      <th></th>\n",
       "      <th></th>\n",
       "    </tr>\n",
       "  </thead>\n",
       "  <tbody>\n",
       "    <tr>\n",
       "      <th>65554</th>\n",
       "      <td>DC00044221</td>\n",
       "      <td>-77.063211</td>\n",
       "      <td>38.905925</td>\n",
       "      <td>41.73</td>\n",
       "      <td>65535.0</td>\n",
       "      <td>9</td>\n",
       "      <td>2.070120e+08</td>\n",
       "      <td>1.0</td>\n",
       "      <td>10.0</td>\n",
       "      <td>0</td>\n",
       "      <td>0</td>\n",
       "      <td>1717</td>\n",
       "    </tr>\n",
       "    <tr>\n",
       "      <th>69650</th>\n",
       "      <td>DC00006528</td>\n",
       "      <td>-77.023117</td>\n",
       "      <td>38.899704</td>\n",
       "      <td>58.01</td>\n",
       "      <td>65535.0</td>\n",
       "      <td>6</td>\n",
       "      <td>2.070106e+08</td>\n",
       "      <td>0.0</td>\n",
       "      <td>2.0</td>\n",
       "      <td>0</td>\n",
       "      <td>0</td>\n",
       "      <td>2116</td>\n",
       "    </tr>\n",
       "    <tr>\n",
       "      <th>72257</th>\n",
       "      <td>DC00006035</td>\n",
       "      <td>-77.020068</td>\n",
       "      <td>38.896014</td>\n",
       "      <td>53.73</td>\n",
       "      <td>65535.0</td>\n",
       "      <td>7</td>\n",
       "      <td>2.070106e+08</td>\n",
       "      <td>0.0</td>\n",
       "      <td>4.0</td>\n",
       "      <td>0</td>\n",
       "      <td>0</td>\n",
       "      <td>2216</td>\n",
       "    </tr>\n",
       "  </tbody>\n",
       "</table>\n",
       "</div>"
      ],
      "text/plain": [
       "              egid      las_x       st_y  las_z  intensity  classification  \\\n",
       "bldgid                                                                       \n",
       "65554   DC00044221 -77.063211  38.905925  41.73    65535.0               9   \n",
       "69650   DC00006528 -77.023117  38.899704  58.01    65535.0               6   \n",
       "72257   DC00006035 -77.020068  38.896014  53.73    65535.0               7   \n",
       "\n",
       "            gps_time  overlap  scan_angle  synthetic  withheld  dcoctocode  \n",
       "bldgid                                                                      \n",
       "65554   2.070120e+08      1.0        10.0          0         0        1717  \n",
       "69650   2.070106e+08      0.0         2.0          0         0        2116  \n",
       "72257   2.070106e+08      0.0         4.0          0         0        2216  "
      ]
     },
     "execution_count": 42,
     "metadata": {},
     "output_type": "execute_result"
    }
   ],
   "source": [
    "large_buildings_lidar_readings_df.groupby(['bldgid']).max()"
   ]
  },
  {
   "cell_type": "code",
   "execution_count": 65,
   "metadata": {},
   "outputs": [],
   "source": [
    "valid_las_classification_codes = [0, 1, 6]\n",
    "large_buildings_lidar_readings_filtered_df = \\\n",
    "    large_buildings_lidar_readings_df[large_buildings_lidar_readings_df.classification.isin(\n",
    "    valid_las_classification_codes)]\n"
   ]
  },
  {
   "cell_type": "code",
   "execution_count": 64,
   "metadata": {},
   "outputs": [
    {
     "data": {
      "text/plain": [
       "array([6, 1])"
      ]
     },
     "execution_count": 64,
     "metadata": {},
     "output_type": "execute_result"
    }
   ],
   "source": [
    "large_buildings_lidar_readings_filtered_df['classification'].unique()"
   ]
  },
  {
   "cell_type": "code",
   "execution_count": 68,
   "metadata": {},
   "outputs": [
    {
     "data": {
      "text/html": [
       "<div>\n",
       "<style scoped>\n",
       "    .dataframe tbody tr th:only-of-type {\n",
       "        vertical-align: middle;\n",
       "    }\n",
       "\n",
       "    .dataframe tbody tr th {\n",
       "        vertical-align: top;\n",
       "    }\n",
       "\n",
       "    .dataframe thead th {\n",
       "        text-align: right;\n",
       "    }\n",
       "</style>\n",
       "<table border=\"1\" class=\"dataframe\">\n",
       "  <thead>\n",
       "    <tr style=\"text-align: right;\">\n",
       "      <th></th>\n",
       "      <th>egid</th>\n",
       "      <th>las_z</th>\n",
       "      <th>classification</th>\n",
       "    </tr>\n",
       "    <tr>\n",
       "      <th>bldgid</th>\n",
       "      <th></th>\n",
       "      <th></th>\n",
       "      <th></th>\n",
       "    </tr>\n",
       "  </thead>\n",
       "  <tbody>\n",
       "    <tr>\n",
       "      <th>27992</th>\n",
       "      <td>DC00027137</td>\n",
       "      <td>105.45</td>\n",
       "      <td>6</td>\n",
       "    </tr>\n",
       "    <tr>\n",
       "      <th>39543</th>\n",
       "      <td>DC00015998</td>\n",
       "      <td>74.00</td>\n",
       "      <td>6</td>\n",
       "    </tr>\n",
       "    <tr>\n",
       "      <th>42045</th>\n",
       "      <td>DC00016244</td>\n",
       "      <td>160.69</td>\n",
       "      <td>6</td>\n",
       "    </tr>\n",
       "    <tr>\n",
       "      <th>54567</th>\n",
       "      <td>DC00026545</td>\n",
       "      <td>54.26</td>\n",
       "      <td>6</td>\n",
       "    </tr>\n",
       "    <tr>\n",
       "      <th>62540</th>\n",
       "      <td>DC00063776</td>\n",
       "      <td>59.04</td>\n",
       "      <td>6</td>\n",
       "    </tr>\n",
       "    <tr>\n",
       "      <th>65554</th>\n",
       "      <td>DC00044221</td>\n",
       "      <td>40.16</td>\n",
       "      <td>6</td>\n",
       "    </tr>\n",
       "    <tr>\n",
       "      <th>66377</th>\n",
       "      <td>DC00000306</td>\n",
       "      <td>63.04</td>\n",
       "      <td>6</td>\n",
       "    </tr>\n",
       "    <tr>\n",
       "      <th>69650</th>\n",
       "      <td>DC00006528</td>\n",
       "      <td>58.01</td>\n",
       "      <td>6</td>\n",
       "    </tr>\n",
       "    <tr>\n",
       "      <th>72241</th>\n",
       "      <td>DC00005939</td>\n",
       "      <td>55.08</td>\n",
       "      <td>6</td>\n",
       "    </tr>\n",
       "    <tr>\n",
       "      <th>72257</th>\n",
       "      <td>DC00006035</td>\n",
       "      <td>53.73</td>\n",
       "      <td>6</td>\n",
       "    </tr>\n",
       "  </tbody>\n",
       "</table>\n",
       "</div>"
      ],
      "text/plain": [
       "              egid   las_z  classification\n",
       "bldgid                                    \n",
       "27992   DC00027137  105.45               6\n",
       "39543   DC00015998   74.00               6\n",
       "42045   DC00016244  160.69               6\n",
       "54567   DC00026545   54.26               6\n",
       "62540   DC00063776   59.04               6\n",
       "65554   DC00044221   40.16               6\n",
       "66377   DC00000306   63.04               6\n",
       "69650   DC00006528   58.01               6\n",
       "72241   DC00005939   55.08               6\n",
       "72257   DC00006035   53.73               6"
      ]
     },
     "execution_count": 68,
     "metadata": {},
     "output_type": "execute_result"
    }
   ],
   "source": [
    "large_buildings_lidar_readings_filtered_df[[\"bldgid\", \"egid\", \"las_z\", \"classification\"]].groupby(['bldgid']).max()"
   ]
  },
  {
   "cell_type": "code",
   "execution_count": null,
   "metadata": {},
   "outputs": [],
   "source": [
    "large_buildings_result = large_buildings_lidar_readings_filtered_df['bldgid'].corr"
   ]
  }
 ],
 "metadata": {
  "kernelspec": {
   "display_name": "conda_python3",
   "language": "python",
   "name": "conda_python3"
  },
  "language_info": {
   "codemirror_mode": {
    "name": "ipython",
    "version": 3
   },
   "file_extension": ".py",
   "mimetype": "text/x-python",
   "name": "python",
   "nbconvert_exporter": "python",
   "pygments_lexer": "ipython3",
   "version": "3.6.5"
  }
 },
 "nbformat": 4,
 "nbformat_minor": 2
}
